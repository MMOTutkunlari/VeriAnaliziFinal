{
 "cells": [
  {
   "cell_type": "markdown",
   "id": "6acb6f24",
   "metadata": {},
   "source": [
    "# 20490033 - ERAY ÖKSÜZ - NESNE TABANLI PROGRAMLAMA FİNAL\n",
    "# FELÇ TAHMİNLERİ\n",
    "\n",
    "## Veri Seti Ne İçin?\n",
    "Dünya Sağlık Örgütüne göre inme toplam ölüm sayısının %11'ini kapsayarak 2. önde gelen ölüm sebebidir. Cinsiyet, yaşadığı bölge, sigara, çalışma, evlilik, hipertansiyon, vücut kitle indeksi ve kalp hastalığı gibi veriler ile felç geçirme olasılığını tahmin eder.\n",
    "\n",
    "## Verilerin Alınması ve Analizi"
   ]
  },
  {
   "cell_type": "code",
   "execution_count": 1,
   "id": "04b0afd5",
   "metadata": {},
   "outputs": [],
   "source": [
    "import numpy as np\n",
    "import pandas as pd\n",
    "df = pd.read_csv(\"healthcare-dataset-stroke-data.csv\", sep=\",\")"
   ]
  },
  {
   "cell_type": "code",
   "execution_count": 2,
   "id": "b236da58",
   "metadata": {},
   "outputs": [
    {
     "data": {
      "text/html": [
       "<div>\n",
       "<style scoped>\n",
       "    .dataframe tbody tr th:only-of-type {\n",
       "        vertical-align: middle;\n",
       "    }\n",
       "\n",
       "    .dataframe tbody tr th {\n",
       "        vertical-align: top;\n",
       "    }\n",
       "\n",
       "    .dataframe thead th {\n",
       "        text-align: right;\n",
       "    }\n",
       "</style>\n",
       "<table border=\"1\" class=\"dataframe\">\n",
       "  <thead>\n",
       "    <tr style=\"text-align: right;\">\n",
       "      <th></th>\n",
       "      <th>id</th>\n",
       "      <th>gender</th>\n",
       "      <th>age</th>\n",
       "      <th>hypertension</th>\n",
       "      <th>heart_disease</th>\n",
       "      <th>ever_married</th>\n",
       "      <th>work_type</th>\n",
       "      <th>Residence_type</th>\n",
       "      <th>avg_glucose_level</th>\n",
       "      <th>bmi</th>\n",
       "      <th>smoking_status</th>\n",
       "      <th>stroke</th>\n",
       "    </tr>\n",
       "  </thead>\n",
       "  <tbody>\n",
       "    <tr>\n",
       "      <th>0</th>\n",
       "      <td>9046</td>\n",
       "      <td>Male</td>\n",
       "      <td>67.0</td>\n",
       "      <td>0</td>\n",
       "      <td>1</td>\n",
       "      <td>Yes</td>\n",
       "      <td>Private</td>\n",
       "      <td>Urban</td>\n",
       "      <td>228.69</td>\n",
       "      <td>36.6</td>\n",
       "      <td>formerly smoked</td>\n",
       "      <td>1</td>\n",
       "    </tr>\n",
       "    <tr>\n",
       "      <th>1</th>\n",
       "      <td>51676</td>\n",
       "      <td>Female</td>\n",
       "      <td>61.0</td>\n",
       "      <td>0</td>\n",
       "      <td>0</td>\n",
       "      <td>Yes</td>\n",
       "      <td>Self-employed</td>\n",
       "      <td>Rural</td>\n",
       "      <td>202.21</td>\n",
       "      <td>NaN</td>\n",
       "      <td>never smoked</td>\n",
       "      <td>1</td>\n",
       "    </tr>\n",
       "    <tr>\n",
       "      <th>2</th>\n",
       "      <td>31112</td>\n",
       "      <td>Male</td>\n",
       "      <td>80.0</td>\n",
       "      <td>0</td>\n",
       "      <td>1</td>\n",
       "      <td>Yes</td>\n",
       "      <td>Private</td>\n",
       "      <td>Rural</td>\n",
       "      <td>105.92</td>\n",
       "      <td>32.5</td>\n",
       "      <td>never smoked</td>\n",
       "      <td>1</td>\n",
       "    </tr>\n",
       "    <tr>\n",
       "      <th>3</th>\n",
       "      <td>60182</td>\n",
       "      <td>Female</td>\n",
       "      <td>49.0</td>\n",
       "      <td>0</td>\n",
       "      <td>0</td>\n",
       "      <td>Yes</td>\n",
       "      <td>Private</td>\n",
       "      <td>Urban</td>\n",
       "      <td>171.23</td>\n",
       "      <td>34.4</td>\n",
       "      <td>smokes</td>\n",
       "      <td>1</td>\n",
       "    </tr>\n",
       "    <tr>\n",
       "      <th>4</th>\n",
       "      <td>1665</td>\n",
       "      <td>Female</td>\n",
       "      <td>79.0</td>\n",
       "      <td>1</td>\n",
       "      <td>0</td>\n",
       "      <td>Yes</td>\n",
       "      <td>Self-employed</td>\n",
       "      <td>Rural</td>\n",
       "      <td>174.12</td>\n",
       "      <td>24.0</td>\n",
       "      <td>never smoked</td>\n",
       "      <td>1</td>\n",
       "    </tr>\n",
       "    <tr>\n",
       "      <th>...</th>\n",
       "      <td>...</td>\n",
       "      <td>...</td>\n",
       "      <td>...</td>\n",
       "      <td>...</td>\n",
       "      <td>...</td>\n",
       "      <td>...</td>\n",
       "      <td>...</td>\n",
       "      <td>...</td>\n",
       "      <td>...</td>\n",
       "      <td>...</td>\n",
       "      <td>...</td>\n",
       "      <td>...</td>\n",
       "    </tr>\n",
       "    <tr>\n",
       "      <th>5105</th>\n",
       "      <td>18234</td>\n",
       "      <td>Female</td>\n",
       "      <td>80.0</td>\n",
       "      <td>1</td>\n",
       "      <td>0</td>\n",
       "      <td>Yes</td>\n",
       "      <td>Private</td>\n",
       "      <td>Urban</td>\n",
       "      <td>83.75</td>\n",
       "      <td>NaN</td>\n",
       "      <td>never smoked</td>\n",
       "      <td>0</td>\n",
       "    </tr>\n",
       "    <tr>\n",
       "      <th>5106</th>\n",
       "      <td>44873</td>\n",
       "      <td>Female</td>\n",
       "      <td>81.0</td>\n",
       "      <td>0</td>\n",
       "      <td>0</td>\n",
       "      <td>Yes</td>\n",
       "      <td>Self-employed</td>\n",
       "      <td>Urban</td>\n",
       "      <td>125.20</td>\n",
       "      <td>40.0</td>\n",
       "      <td>never smoked</td>\n",
       "      <td>0</td>\n",
       "    </tr>\n",
       "    <tr>\n",
       "      <th>5107</th>\n",
       "      <td>19723</td>\n",
       "      <td>Female</td>\n",
       "      <td>35.0</td>\n",
       "      <td>0</td>\n",
       "      <td>0</td>\n",
       "      <td>Yes</td>\n",
       "      <td>Self-employed</td>\n",
       "      <td>Rural</td>\n",
       "      <td>82.99</td>\n",
       "      <td>30.6</td>\n",
       "      <td>never smoked</td>\n",
       "      <td>0</td>\n",
       "    </tr>\n",
       "    <tr>\n",
       "      <th>5108</th>\n",
       "      <td>37544</td>\n",
       "      <td>Male</td>\n",
       "      <td>51.0</td>\n",
       "      <td>0</td>\n",
       "      <td>0</td>\n",
       "      <td>Yes</td>\n",
       "      <td>Private</td>\n",
       "      <td>Rural</td>\n",
       "      <td>166.29</td>\n",
       "      <td>25.6</td>\n",
       "      <td>formerly smoked</td>\n",
       "      <td>0</td>\n",
       "    </tr>\n",
       "    <tr>\n",
       "      <th>5109</th>\n",
       "      <td>44679</td>\n",
       "      <td>Female</td>\n",
       "      <td>44.0</td>\n",
       "      <td>0</td>\n",
       "      <td>0</td>\n",
       "      <td>Yes</td>\n",
       "      <td>Govt_job</td>\n",
       "      <td>Urban</td>\n",
       "      <td>85.28</td>\n",
       "      <td>26.2</td>\n",
       "      <td>Unknown</td>\n",
       "      <td>0</td>\n",
       "    </tr>\n",
       "  </tbody>\n",
       "</table>\n",
       "<p>5110 rows × 12 columns</p>\n",
       "</div>"
      ],
      "text/plain": [
       "         id  gender   age  hypertension  heart_disease ever_married  \\\n",
       "0      9046    Male  67.0             0              1          Yes   \n",
       "1     51676  Female  61.0             0              0          Yes   \n",
       "2     31112    Male  80.0             0              1          Yes   \n",
       "3     60182  Female  49.0             0              0          Yes   \n",
       "4      1665  Female  79.0             1              0          Yes   \n",
       "...     ...     ...   ...           ...            ...          ...   \n",
       "5105  18234  Female  80.0             1              0          Yes   \n",
       "5106  44873  Female  81.0             0              0          Yes   \n",
       "5107  19723  Female  35.0             0              0          Yes   \n",
       "5108  37544    Male  51.0             0              0          Yes   \n",
       "5109  44679  Female  44.0             0              0          Yes   \n",
       "\n",
       "          work_type Residence_type  avg_glucose_level   bmi   smoking_status  \\\n",
       "0           Private          Urban             228.69  36.6  formerly smoked   \n",
       "1     Self-employed          Rural             202.21   NaN     never smoked   \n",
       "2           Private          Rural             105.92  32.5     never smoked   \n",
       "3           Private          Urban             171.23  34.4           smokes   \n",
       "4     Self-employed          Rural             174.12  24.0     never smoked   \n",
       "...             ...            ...                ...   ...              ...   \n",
       "5105        Private          Urban              83.75   NaN     never smoked   \n",
       "5106  Self-employed          Urban             125.20  40.0     never smoked   \n",
       "5107  Self-employed          Rural              82.99  30.6     never smoked   \n",
       "5108        Private          Rural             166.29  25.6  formerly smoked   \n",
       "5109       Govt_job          Urban              85.28  26.2          Unknown   \n",
       "\n",
       "      stroke  \n",
       "0          1  \n",
       "1          1  \n",
       "2          1  \n",
       "3          1  \n",
       "4          1  \n",
       "...      ...  \n",
       "5105       0  \n",
       "5106       0  \n",
       "5107       0  \n",
       "5108       0  \n",
       "5109       0  \n",
       "\n",
       "[5110 rows x 12 columns]"
      ]
     },
     "execution_count": 2,
     "metadata": {},
     "output_type": "execute_result"
    }
   ],
   "source": [
    "df"
   ]
  },
  {
   "cell_type": "code",
   "execution_count": 3,
   "id": "3ec9c444",
   "metadata": {},
   "outputs": [
    {
     "name": "stdout",
     "output_type": "stream",
     "text": [
      "<class 'pandas.core.frame.DataFrame'>\n",
      "RangeIndex: 5110 entries, 0 to 5109\n",
      "Data columns (total 12 columns):\n",
      " #   Column             Non-Null Count  Dtype  \n",
      "---  ------             --------------  -----  \n",
      " 0   id                 5110 non-null   int64  \n",
      " 1   gender             5110 non-null   object \n",
      " 2   age                5110 non-null   float64\n",
      " 3   hypertension       5110 non-null   int64  \n",
      " 4   heart_disease      5110 non-null   int64  \n",
      " 5   ever_married       5110 non-null   object \n",
      " 6   work_type          5110 non-null   object \n",
      " 7   Residence_type     5110 non-null   object \n",
      " 8   avg_glucose_level  5110 non-null   float64\n",
      " 9   bmi                4909 non-null   float64\n",
      " 10  smoking_status     5110 non-null   object \n",
      " 11  stroke             5110 non-null   int64  \n",
      "dtypes: float64(3), int64(4), object(5)\n",
      "memory usage: 479.2+ KB\n"
     ]
    }
   ],
   "source": [
    "df.info()"
   ]
  },
  {
   "cell_type": "code",
   "execution_count": 4,
   "id": "0b887a90",
   "metadata": {},
   "outputs": [
    {
     "name": "stdout",
     "output_type": "stream",
     "text": [
      "gender :  ['Male' 'Female' 'Other']\n",
      "ever_married :  ['Yes' 'No']\n",
      "work_type :  ['Private' 'Self-employed' 'Govt_job' 'children' 'Never_worked']\n",
      "Residence_type :  ['Urban' 'Rural']\n",
      "smoking_status :  ['formerly smoked' 'never smoked' 'smokes' 'Unknown']\n"
     ]
    }
   ],
   "source": [
    "# object türlerinde hangi değerlerin olduğuna bakıyorum.\n",
    "for d in df:\n",
    "    if(df[d].dtypes==\"object\"):\n",
    "        print(d, \": \", df[d].unique())"
   ]
  },
  {
   "cell_type": "code",
   "execution_count": 5,
   "id": "124b8579",
   "metadata": {},
   "outputs": [
    {
     "data": {
      "text/plain": [
       "Female    2994\n",
       "Male      2115\n",
       "Other        1\n",
       "Name: gender, dtype: int64"
      ]
     },
     "execution_count": 5,
     "metadata": {},
     "output_type": "execute_result"
    }
   ],
   "source": [
    "# Other adında bir tane cinsiyet bunu kaldıracağım.\n",
    "df[\"gender\"].value_counts()"
   ]
  },
  {
   "cell_type": "code",
   "execution_count": 6,
   "id": "b67f8308",
   "metadata": {},
   "outputs": [
    {
     "data": {
      "text/html": [
       "<div>\n",
       "<style scoped>\n",
       "    .dataframe tbody tr th:only-of-type {\n",
       "        vertical-align: middle;\n",
       "    }\n",
       "\n",
       "    .dataframe tbody tr th {\n",
       "        vertical-align: top;\n",
       "    }\n",
       "\n",
       "    .dataframe thead th {\n",
       "        text-align: right;\n",
       "    }\n",
       "</style>\n",
       "<table border=\"1\" class=\"dataframe\">\n",
       "  <thead>\n",
       "    <tr style=\"text-align: right;\">\n",
       "      <th></th>\n",
       "      <th>id</th>\n",
       "      <th>gender</th>\n",
       "      <th>age</th>\n",
       "      <th>hypertension</th>\n",
       "      <th>heart_disease</th>\n",
       "      <th>ever_married</th>\n",
       "      <th>work_type</th>\n",
       "      <th>Residence_type</th>\n",
       "      <th>avg_glucose_level</th>\n",
       "      <th>bmi</th>\n",
       "      <th>smoking_status</th>\n",
       "      <th>stroke</th>\n",
       "    </tr>\n",
       "  </thead>\n",
       "  <tbody>\n",
       "    <tr>\n",
       "      <th>3116</th>\n",
       "      <td>56156</td>\n",
       "      <td>Other</td>\n",
       "      <td>26.0</td>\n",
       "      <td>0</td>\n",
       "      <td>0</td>\n",
       "      <td>No</td>\n",
       "      <td>Private</td>\n",
       "      <td>Rural</td>\n",
       "      <td>143.33</td>\n",
       "      <td>22.4</td>\n",
       "      <td>formerly smoked</td>\n",
       "      <td>0</td>\n",
       "    </tr>\n",
       "  </tbody>\n",
       "</table>\n",
       "</div>"
      ],
      "text/plain": [
       "         id gender   age  hypertension  heart_disease ever_married work_type  \\\n",
       "3116  56156  Other  26.0             0              0           No   Private   \n",
       "\n",
       "     Residence_type  avg_glucose_level   bmi   smoking_status  stroke  \n",
       "3116          Rural             143.33  22.4  formerly smoked       0  "
      ]
     },
     "execution_count": 6,
     "metadata": {},
     "output_type": "execute_result"
    }
   ],
   "source": [
    "# Other olan cinsiyetin verileri\n",
    "df[df[\"gender\"] == \"Other\"]"
   ]
  },
  {
   "cell_type": "code",
   "execution_count": 7,
   "id": "7d54efad",
   "metadata": {},
   "outputs": [
    {
     "data": {
      "text/plain": [
       "array(['Male', 'Female'], dtype=object)"
      ]
     },
     "execution_count": 7,
     "metadata": {},
     "output_type": "execute_result"
    }
   ],
   "source": [
    "df.drop(df[df[\"gender\"]==\"Other\"].index, inplace=True)\n",
    "df.reset_index(drop=True, inplace=True) #3116. satır silindiği için satır sayılarını baştan sayar.\n",
    "df[\"gender\"].unique()"
   ]
  },
  {
   "cell_type": "code",
   "execution_count": 8,
   "id": "f8f252e0",
   "metadata": {},
   "outputs": [
    {
     "data": {
      "text/plain": [
       "0    4860\n",
       "1     249\n",
       "Name: stroke, dtype: int64"
      ]
     },
     "execution_count": 8,
     "metadata": {},
     "output_type": "execute_result"
    }
   ],
   "source": [
    "# Sonuçlardan kaç tane olduğuna bakıyorum. Felçli olanlar ile olmayanlar arasında baya fark var. \n",
    "# Dengesiz olduğu için tahmin algoritmaları düzgün çalışmayacaktır. Bu yüzden bu verileri eşitlemek gerekecek.\n",
    "df[\"stroke\"].value_counts()"
   ]
  },
  {
   "cell_type": "code",
   "execution_count": 9,
   "id": "6baee987",
   "metadata": {},
   "outputs": [
    {
     "data": {
      "text/plain": [
       "id                     0\n",
       "gender                 0\n",
       "age                    0\n",
       "hypertension           0\n",
       "heart_disease          0\n",
       "ever_married           0\n",
       "work_type              0\n",
       "Residence_type         0\n",
       "avg_glucose_level      0\n",
       "bmi                  201\n",
       "smoking_status         0\n",
       "stroke                 0\n",
       "dtype: int64"
      ]
     },
     "execution_count": 9,
     "metadata": {},
     "output_type": "execute_result"
    }
   ],
   "source": [
    "# Kaç tane NaN değeri olduğuna bakıyorum.\n",
    "df.isnull().sum()"
   ]
  },
  {
   "cell_type": "code",
   "execution_count": 10,
   "id": "c4bbd3dd",
   "metadata": {
    "scrolled": true
   },
   "outputs": [
    {
     "name": "stdout",
     "output_type": "stream",
     "text": [
      "Felç geçirmeyen 161\n",
      "Felç geçiren 40\n"
     ]
    }
   ],
   "source": [
    "# bmi - vücut kitle endeksinde 201 tane NaN değeri var. Felçli olan veya olmayanlarda kaç tane eksik\n",
    "# bmi olduğunu öğrenelim ilk.\n",
    "\n",
    "print(\"Felç geçirmeyen\", df[df[\"stroke\"] == 0][\"bmi\"].isnull().sum())\n",
    "print(\"Felç geçiren\", df[df[\"stroke\"] == 1][\"bmi\"].isnull().sum())"
   ]
  },
  {
   "cell_type": "markdown",
   "id": "65742ee2",
   "metadata": {},
   "source": [
    "### NaN değerlerini ne yapabilirim?\n",
    "Tahmin edebilmek için bu NaN değerlerinden kurtulmak gerekiyor. \n",
    "NaN değeri olan satırları silebiliriz ya da silmek yerine NaN olmayan bmi değerlerinin ortalamasını ekleyebiliriz.\n",
    "Fakat ortalamasını almak tahmin seviyesini etkileyeceği için NaN doldurma işlemi\n",
    "için cinsiyet ve yaşa göre NaN bmi'yi tahmin etmesi tahmin algoritmasından faydalanacağım.\n",
    "\n",
    "### NaN değerleri işleme\n"
   ]
  },
  {
   "cell_type": "code",
   "execution_count": 11,
   "id": "dd707c90",
   "metadata": {},
   "outputs": [
    {
     "data": {
      "text/html": [
       "<div>\n",
       "<style scoped>\n",
       "    .dataframe tbody tr th:only-of-type {\n",
       "        vertical-align: middle;\n",
       "    }\n",
       "\n",
       "    .dataframe tbody tr th {\n",
       "        vertical-align: top;\n",
       "    }\n",
       "\n",
       "    .dataframe thead th {\n",
       "        text-align: right;\n",
       "    }\n",
       "</style>\n",
       "<table border=\"1\" class=\"dataframe\">\n",
       "  <thead>\n",
       "    <tr style=\"text-align: right;\">\n",
       "      <th></th>\n",
       "      <th>age</th>\n",
       "      <th>gender</th>\n",
       "      <th>bmi</th>\n",
       "    </tr>\n",
       "  </thead>\n",
       "  <tbody>\n",
       "    <tr>\n",
       "      <th>0</th>\n",
       "      <td>67.0</td>\n",
       "      <td>Male</td>\n",
       "      <td>36.6</td>\n",
       "    </tr>\n",
       "    <tr>\n",
       "      <th>1</th>\n",
       "      <td>61.0</td>\n",
       "      <td>Female</td>\n",
       "      <td>NaN</td>\n",
       "    </tr>\n",
       "    <tr>\n",
       "      <th>2</th>\n",
       "      <td>80.0</td>\n",
       "      <td>Male</td>\n",
       "      <td>32.5</td>\n",
       "    </tr>\n",
       "    <tr>\n",
       "      <th>3</th>\n",
       "      <td>49.0</td>\n",
       "      <td>Female</td>\n",
       "      <td>34.4</td>\n",
       "    </tr>\n",
       "    <tr>\n",
       "      <th>4</th>\n",
       "      <td>79.0</td>\n",
       "      <td>Female</td>\n",
       "      <td>24.0</td>\n",
       "    </tr>\n",
       "    <tr>\n",
       "      <th>...</th>\n",
       "      <td>...</td>\n",
       "      <td>...</td>\n",
       "      <td>...</td>\n",
       "    </tr>\n",
       "    <tr>\n",
       "      <th>5104</th>\n",
       "      <td>80.0</td>\n",
       "      <td>Female</td>\n",
       "      <td>NaN</td>\n",
       "    </tr>\n",
       "    <tr>\n",
       "      <th>5105</th>\n",
       "      <td>81.0</td>\n",
       "      <td>Female</td>\n",
       "      <td>40.0</td>\n",
       "    </tr>\n",
       "    <tr>\n",
       "      <th>5106</th>\n",
       "      <td>35.0</td>\n",
       "      <td>Female</td>\n",
       "      <td>30.6</td>\n",
       "    </tr>\n",
       "    <tr>\n",
       "      <th>5107</th>\n",
       "      <td>51.0</td>\n",
       "      <td>Male</td>\n",
       "      <td>25.6</td>\n",
       "    </tr>\n",
       "    <tr>\n",
       "      <th>5108</th>\n",
       "      <td>44.0</td>\n",
       "      <td>Female</td>\n",
       "      <td>26.2</td>\n",
       "    </tr>\n",
       "  </tbody>\n",
       "</table>\n",
       "<p>5109 rows × 3 columns</p>\n",
       "</div>"
      ],
      "text/plain": [
       "       age  gender   bmi\n",
       "0     67.0    Male  36.6\n",
       "1     61.0  Female   NaN\n",
       "2     80.0    Male  32.5\n",
       "3     49.0  Female  34.4\n",
       "4     79.0  Female  24.0\n",
       "...    ...     ...   ...\n",
       "5104  80.0  Female   NaN\n",
       "5105  81.0  Female  40.0\n",
       "5106  35.0  Female  30.6\n",
       "5107  51.0    Male  25.6\n",
       "5108  44.0  Female  26.2\n",
       "\n",
       "[5109 rows x 3 columns]"
      ]
     },
     "execution_count": 11,
     "metadata": {},
     "output_type": "execute_result"
    }
   ],
   "source": [
    "# Önce tahmin için kullanılacak verileri hazırlıyorum.\n",
    "\n",
    "x_bmi = df[[\"age\", \"gender\", \"bmi\"]].copy()\n",
    "x_bmi"
   ]
  },
  {
   "cell_type": "code",
   "execution_count": 12,
   "id": "318e8be3",
   "metadata": {},
   "outputs": [
    {
     "data": {
      "text/html": [
       "<div>\n",
       "<style scoped>\n",
       "    .dataframe tbody tr th:only-of-type {\n",
       "        vertical-align: middle;\n",
       "    }\n",
       "\n",
       "    .dataframe tbody tr th {\n",
       "        vertical-align: top;\n",
       "    }\n",
       "\n",
       "    .dataframe thead th {\n",
       "        text-align: right;\n",
       "    }\n",
       "</style>\n",
       "<table border=\"1\" class=\"dataframe\">\n",
       "  <thead>\n",
       "    <tr style=\"text-align: right;\">\n",
       "      <th></th>\n",
       "      <th>age</th>\n",
       "      <th>gender</th>\n",
       "      <th>bmi</th>\n",
       "    </tr>\n",
       "  </thead>\n",
       "  <tbody>\n",
       "    <tr>\n",
       "      <th>0</th>\n",
       "      <td>67.0</td>\n",
       "      <td>0</td>\n",
       "      <td>36.6</td>\n",
       "    </tr>\n",
       "    <tr>\n",
       "      <th>1</th>\n",
       "      <td>61.0</td>\n",
       "      <td>1</td>\n",
       "      <td>NaN</td>\n",
       "    </tr>\n",
       "    <tr>\n",
       "      <th>2</th>\n",
       "      <td>80.0</td>\n",
       "      <td>0</td>\n",
       "      <td>32.5</td>\n",
       "    </tr>\n",
       "    <tr>\n",
       "      <th>3</th>\n",
       "      <td>49.0</td>\n",
       "      <td>1</td>\n",
       "      <td>34.4</td>\n",
       "    </tr>\n",
       "    <tr>\n",
       "      <th>4</th>\n",
       "      <td>79.0</td>\n",
       "      <td>1</td>\n",
       "      <td>24.0</td>\n",
       "    </tr>\n",
       "    <tr>\n",
       "      <th>...</th>\n",
       "      <td>...</td>\n",
       "      <td>...</td>\n",
       "      <td>...</td>\n",
       "    </tr>\n",
       "    <tr>\n",
       "      <th>5104</th>\n",
       "      <td>80.0</td>\n",
       "      <td>1</td>\n",
       "      <td>NaN</td>\n",
       "    </tr>\n",
       "    <tr>\n",
       "      <th>5105</th>\n",
       "      <td>81.0</td>\n",
       "      <td>1</td>\n",
       "      <td>40.0</td>\n",
       "    </tr>\n",
       "    <tr>\n",
       "      <th>5106</th>\n",
       "      <td>35.0</td>\n",
       "      <td>1</td>\n",
       "      <td>30.6</td>\n",
       "    </tr>\n",
       "    <tr>\n",
       "      <th>5107</th>\n",
       "      <td>51.0</td>\n",
       "      <td>0</td>\n",
       "      <td>25.6</td>\n",
       "    </tr>\n",
       "    <tr>\n",
       "      <th>5108</th>\n",
       "      <td>44.0</td>\n",
       "      <td>1</td>\n",
       "      <td>26.2</td>\n",
       "    </tr>\n",
       "  </tbody>\n",
       "</table>\n",
       "<p>5109 rows × 3 columns</p>\n",
       "</div>"
      ],
      "text/plain": [
       "       age  gender   bmi\n",
       "0     67.0       0  36.6\n",
       "1     61.0       1   NaN\n",
       "2     80.0       0  32.5\n",
       "3     49.0       1  34.4\n",
       "4     79.0       1  24.0\n",
       "...    ...     ...   ...\n",
       "5104  80.0       1   NaN\n",
       "5105  81.0       1  40.0\n",
       "5106  35.0       1  30.6\n",
       "5107  51.0       0  25.6\n",
       "5108  44.0       1  26.2\n",
       "\n",
       "[5109 rows x 3 columns]"
      ]
     },
     "execution_count": 12,
     "metadata": {},
     "output_type": "execute_result"
    }
   ],
   "source": [
    "#GCinsiyeti sayısala çeviriyorum.\n",
    "x_bmi[\"gender\"] = x_bmi[\"gender\"].replace({'Male':0,'Female':1}).astype(np.uint8)\n",
    "x_bmi"
   ]
  },
  {
   "cell_type": "code",
   "execution_count": 13,
   "id": "b93b4653",
   "metadata": {},
   "outputs": [
    {
     "data": {
      "text/html": [
       "<div>\n",
       "<style scoped>\n",
       "    .dataframe tbody tr th:only-of-type {\n",
       "        vertical-align: middle;\n",
       "    }\n",
       "\n",
       "    .dataframe tbody tr th {\n",
       "        vertical-align: top;\n",
       "    }\n",
       "\n",
       "    .dataframe thead th {\n",
       "        text-align: right;\n",
       "    }\n",
       "</style>\n",
       "<table border=\"1\" class=\"dataframe\">\n",
       "  <thead>\n",
       "    <tr style=\"text-align: right;\">\n",
       "      <th></th>\n",
       "      <th>age</th>\n",
       "      <th>gender</th>\n",
       "      <th>bmi</th>\n",
       "    </tr>\n",
       "  </thead>\n",
       "  <tbody>\n",
       "    <tr>\n",
       "      <th>1</th>\n",
       "      <td>61.0</td>\n",
       "      <td>1</td>\n",
       "      <td>NaN</td>\n",
       "    </tr>\n",
       "    <tr>\n",
       "      <th>8</th>\n",
       "      <td>59.0</td>\n",
       "      <td>1</td>\n",
       "      <td>NaN</td>\n",
       "    </tr>\n",
       "    <tr>\n",
       "      <th>13</th>\n",
       "      <td>78.0</td>\n",
       "      <td>0</td>\n",
       "      <td>NaN</td>\n",
       "    </tr>\n",
       "    <tr>\n",
       "      <th>19</th>\n",
       "      <td>57.0</td>\n",
       "      <td>0</td>\n",
       "      <td>NaN</td>\n",
       "    </tr>\n",
       "    <tr>\n",
       "      <th>27</th>\n",
       "      <td>58.0</td>\n",
       "      <td>0</td>\n",
       "      <td>NaN</td>\n",
       "    </tr>\n",
       "    <tr>\n",
       "      <th>...</th>\n",
       "      <td>...</td>\n",
       "      <td>...</td>\n",
       "      <td>...</td>\n",
       "    </tr>\n",
       "    <tr>\n",
       "      <th>5038</th>\n",
       "      <td>41.0</td>\n",
       "      <td>0</td>\n",
       "      <td>NaN</td>\n",
       "    </tr>\n",
       "    <tr>\n",
       "      <th>5047</th>\n",
       "      <td>40.0</td>\n",
       "      <td>0</td>\n",
       "      <td>NaN</td>\n",
       "    </tr>\n",
       "    <tr>\n",
       "      <th>5092</th>\n",
       "      <td>45.0</td>\n",
       "      <td>1</td>\n",
       "      <td>NaN</td>\n",
       "    </tr>\n",
       "    <tr>\n",
       "      <th>5098</th>\n",
       "      <td>40.0</td>\n",
       "      <td>0</td>\n",
       "      <td>NaN</td>\n",
       "    </tr>\n",
       "    <tr>\n",
       "      <th>5104</th>\n",
       "      <td>80.0</td>\n",
       "      <td>1</td>\n",
       "      <td>NaN</td>\n",
       "    </tr>\n",
       "  </tbody>\n",
       "</table>\n",
       "<p>201 rows × 3 columns</p>\n",
       "</div>"
      ],
      "text/plain": [
       "       age  gender  bmi\n",
       "1     61.0       1  NaN\n",
       "8     59.0       1  NaN\n",
       "13    78.0       0  NaN\n",
       "19    57.0       0  NaN\n",
       "27    58.0       0  NaN\n",
       "...    ...     ...  ...\n",
       "5038  41.0       0  NaN\n",
       "5047  40.0       0  NaN\n",
       "5092  45.0       1  NaN\n",
       "5098  40.0       0  NaN\n",
       "5104  80.0       1  NaN\n",
       "\n",
       "[201 rows x 3 columns]"
      ]
     },
     "execution_count": 13,
     "metadata": {},
     "output_type": "execute_result"
    }
   ],
   "source": [
    "# bmi NaN değerlerini alıyorum.\n",
    "kayipVeriler = x_bmi[x_bmi.bmi.isna()]\n",
    "kayipVeriler"
   ]
  },
  {
   "cell_type": "code",
   "execution_count": 14,
   "id": "0df0daaf",
   "metadata": {},
   "outputs": [
    {
     "data": {
      "text/html": [
       "<div>\n",
       "<style scoped>\n",
       "    .dataframe tbody tr th:only-of-type {\n",
       "        vertical-align: middle;\n",
       "    }\n",
       "\n",
       "    .dataframe tbody tr th {\n",
       "        vertical-align: top;\n",
       "    }\n",
       "\n",
       "    .dataframe thead th {\n",
       "        text-align: right;\n",
       "    }\n",
       "</style>\n",
       "<table border=\"1\" class=\"dataframe\">\n",
       "  <thead>\n",
       "    <tr style=\"text-align: right;\">\n",
       "      <th></th>\n",
       "      <th>age</th>\n",
       "      <th>gender</th>\n",
       "      <th>bmi</th>\n",
       "    </tr>\n",
       "  </thead>\n",
       "  <tbody>\n",
       "    <tr>\n",
       "      <th>0</th>\n",
       "      <td>67.0</td>\n",
       "      <td>0</td>\n",
       "      <td>36.6</td>\n",
       "    </tr>\n",
       "    <tr>\n",
       "      <th>2</th>\n",
       "      <td>80.0</td>\n",
       "      <td>0</td>\n",
       "      <td>32.5</td>\n",
       "    </tr>\n",
       "    <tr>\n",
       "      <th>3</th>\n",
       "      <td>49.0</td>\n",
       "      <td>1</td>\n",
       "      <td>34.4</td>\n",
       "    </tr>\n",
       "    <tr>\n",
       "      <th>4</th>\n",
       "      <td>79.0</td>\n",
       "      <td>1</td>\n",
       "      <td>24.0</td>\n",
       "    </tr>\n",
       "    <tr>\n",
       "      <th>5</th>\n",
       "      <td>81.0</td>\n",
       "      <td>0</td>\n",
       "      <td>29.0</td>\n",
       "    </tr>\n",
       "    <tr>\n",
       "      <th>...</th>\n",
       "      <td>...</td>\n",
       "      <td>...</td>\n",
       "      <td>...</td>\n",
       "    </tr>\n",
       "    <tr>\n",
       "      <th>5103</th>\n",
       "      <td>13.0</td>\n",
       "      <td>1</td>\n",
       "      <td>18.6</td>\n",
       "    </tr>\n",
       "    <tr>\n",
       "      <th>5105</th>\n",
       "      <td>81.0</td>\n",
       "      <td>1</td>\n",
       "      <td>40.0</td>\n",
       "    </tr>\n",
       "    <tr>\n",
       "      <th>5106</th>\n",
       "      <td>35.0</td>\n",
       "      <td>1</td>\n",
       "      <td>30.6</td>\n",
       "    </tr>\n",
       "    <tr>\n",
       "      <th>5107</th>\n",
       "      <td>51.0</td>\n",
       "      <td>0</td>\n",
       "      <td>25.6</td>\n",
       "    </tr>\n",
       "    <tr>\n",
       "      <th>5108</th>\n",
       "      <td>44.0</td>\n",
       "      <td>1</td>\n",
       "      <td>26.2</td>\n",
       "    </tr>\n",
       "  </tbody>\n",
       "</table>\n",
       "<p>4908 rows × 3 columns</p>\n",
       "</div>"
      ],
      "text/plain": [
       "       age  gender   bmi\n",
       "0     67.0       0  36.6\n",
       "2     80.0       0  32.5\n",
       "3     49.0       1  34.4\n",
       "4     79.0       1  24.0\n",
       "5     81.0       0  29.0\n",
       "...    ...     ...   ...\n",
       "5103  13.0       1  18.6\n",
       "5105  81.0       1  40.0\n",
       "5106  35.0       1  30.6\n",
       "5107  51.0       0  25.6\n",
       "5108  44.0       1  26.2\n",
       "\n",
       "[4908 rows x 3 columns]"
      ]
     },
     "execution_count": 14,
     "metadata": {},
     "output_type": "execute_result"
    }
   ],
   "source": [
    "#Kayıp olmayan verileri alıyorum\n",
    "x_bmi = x_bmi[~x_bmi.bmi.isna()]\n",
    "x_bmi"
   ]
  },
  {
   "cell_type": "code",
   "execution_count": 15,
   "id": "9420774a",
   "metadata": {},
   "outputs": [
    {
     "data": {
      "text/html": [
       "<div>\n",
       "<style scoped>\n",
       "    .dataframe tbody tr th:only-of-type {\n",
       "        vertical-align: middle;\n",
       "    }\n",
       "\n",
       "    .dataframe tbody tr th {\n",
       "        vertical-align: top;\n",
       "    }\n",
       "\n",
       "    .dataframe thead th {\n",
       "        text-align: right;\n",
       "    }\n",
       "</style>\n",
       "<table border=\"1\" class=\"dataframe\">\n",
       "  <thead>\n",
       "    <tr style=\"text-align: right;\">\n",
       "      <th></th>\n",
       "      <th>age</th>\n",
       "      <th>gender</th>\n",
       "    </tr>\n",
       "  </thead>\n",
       "  <tbody>\n",
       "    <tr>\n",
       "      <th>0</th>\n",
       "      <td>67.0</td>\n",
       "      <td>0</td>\n",
       "    </tr>\n",
       "    <tr>\n",
       "      <th>2</th>\n",
       "      <td>80.0</td>\n",
       "      <td>0</td>\n",
       "    </tr>\n",
       "    <tr>\n",
       "      <th>3</th>\n",
       "      <td>49.0</td>\n",
       "      <td>1</td>\n",
       "    </tr>\n",
       "    <tr>\n",
       "      <th>4</th>\n",
       "      <td>79.0</td>\n",
       "      <td>1</td>\n",
       "    </tr>\n",
       "    <tr>\n",
       "      <th>5</th>\n",
       "      <td>81.0</td>\n",
       "      <td>0</td>\n",
       "    </tr>\n",
       "    <tr>\n",
       "      <th>...</th>\n",
       "      <td>...</td>\n",
       "      <td>...</td>\n",
       "    </tr>\n",
       "    <tr>\n",
       "      <th>5103</th>\n",
       "      <td>13.0</td>\n",
       "      <td>1</td>\n",
       "    </tr>\n",
       "    <tr>\n",
       "      <th>5105</th>\n",
       "      <td>81.0</td>\n",
       "      <td>1</td>\n",
       "    </tr>\n",
       "    <tr>\n",
       "      <th>5106</th>\n",
       "      <td>35.0</td>\n",
       "      <td>1</td>\n",
       "    </tr>\n",
       "    <tr>\n",
       "      <th>5107</th>\n",
       "      <td>51.0</td>\n",
       "      <td>0</td>\n",
       "    </tr>\n",
       "    <tr>\n",
       "      <th>5108</th>\n",
       "      <td>44.0</td>\n",
       "      <td>1</td>\n",
       "    </tr>\n",
       "  </tbody>\n",
       "</table>\n",
       "<p>4908 rows × 2 columns</p>\n",
       "</div>"
      ],
      "text/plain": [
       "       age  gender\n",
       "0     67.0       0\n",
       "2     80.0       0\n",
       "3     49.0       1\n",
       "4     79.0       1\n",
       "5     81.0       0\n",
       "...    ...     ...\n",
       "5103  13.0       1\n",
       "5105  81.0       1\n",
       "5106  35.0       1\n",
       "5107  51.0       0\n",
       "5108  44.0       1\n",
       "\n",
       "[4908 rows x 2 columns]"
      ]
     },
     "execution_count": 15,
     "metadata": {},
     "output_type": "execute_result"
    }
   ],
   "source": [
    "# Tahmin için sonuç ve verileri ayırıyorum.\n",
    "y_bmi = x_bmi[\"bmi\"]\n",
    "x_bmi = x_bmi.drop([\"bmi\"], axis=1)\n",
    "x_bmi"
   ]
  },
  {
   "cell_type": "code",
   "execution_count": 16,
   "id": "39388dd6",
   "metadata": {},
   "outputs": [
    {
     "data": {
      "text/plain": [
       "0       36.6\n",
       "2       32.5\n",
       "3       34.4\n",
       "4       24.0\n",
       "5       29.0\n",
       "        ... \n",
       "5103    18.6\n",
       "5105    40.0\n",
       "5106    30.6\n",
       "5107    25.6\n",
       "5108    26.2\n",
       "Name: bmi, Length: 4908, dtype: float64"
      ]
     },
     "execution_count": 16,
     "metadata": {},
     "output_type": "execute_result"
    }
   ],
   "source": [
    "y_bmi"
   ]
  },
  {
   "cell_type": "code",
   "execution_count": 17,
   "id": "8dfc964c",
   "metadata": {},
   "outputs": [
    {
     "data": {
      "text/plain": [
       "Pipeline(steps=[('scale', StandardScaler()),\n",
       "                ('lr', DecisionTreeRegressor(random_state=42))])"
      ]
     },
     "execution_count": 17,
     "metadata": {},
     "output_type": "execute_result"
    }
   ],
   "source": [
    "from sklearn.pipeline import Pipeline\n",
    "from sklearn.preprocessing import StandardScaler\n",
    "from sklearn.tree import DecisionTreeRegressor\n",
    "\n",
    "DT_bmi_pipe = Pipeline(steps=[\n",
    "    (\"scale\", StandardScaler()),\n",
    "    (\"lr\", DecisionTreeRegressor(random_state=42))\n",
    "])\n",
    "\n",
    "DT_bmi_pipe.fit(x_bmi,y_bmi)"
   ]
  },
  {
   "cell_type": "code",
   "execution_count": 18,
   "id": "4dc35c4a",
   "metadata": {},
   "outputs": [
    {
     "data": {
      "text/plain": [
       "1       29.879487\n",
       "8       30.556098\n",
       "13      27.247222\n",
       "19      30.841860\n",
       "27      33.146667\n",
       "          ...    \n",
       "5038    32.716000\n",
       "5047    28.313636\n",
       "5092    31.459322\n",
       "5098    28.313636\n",
       "5104    28.476923\n",
       "Length: 201, dtype: float64"
      ]
     },
     "execution_count": 18,
     "metadata": {},
     "output_type": "execute_result"
    }
   ],
   "source": [
    "tahminEdilenBmi = pd.Series(DT_bmi_pipe.predict(\n",
    "    kayipVeriler[\n",
    "        [\"age\", \"gender\"]\n",
    "    ]), \n",
    "    index=kayipVeriler.index)\n",
    "\n",
    "tahminEdilenBmi"
   ]
  },
  {
   "cell_type": "code",
   "execution_count": 19,
   "id": "9ec07b40",
   "metadata": {},
   "outputs": [
    {
     "name": "stdout",
     "output_type": "stream",
     "text": [
      "id                   0\n",
      "gender               0\n",
      "age                  0\n",
      "hypertension         0\n",
      "heart_disease        0\n",
      "ever_married         0\n",
      "work_type            0\n",
      "Residence_type       0\n",
      "avg_glucose_level    0\n",
      "bmi                  0\n",
      "smoking_status       0\n",
      "stroke               0\n",
      "dtype: int64\n"
     ]
    },
    {
     "data": {
      "text/html": [
       "<div>\n",
       "<style scoped>\n",
       "    .dataframe tbody tr th:only-of-type {\n",
       "        vertical-align: middle;\n",
       "    }\n",
       "\n",
       "    .dataframe tbody tr th {\n",
       "        vertical-align: top;\n",
       "    }\n",
       "\n",
       "    .dataframe thead th {\n",
       "        text-align: right;\n",
       "    }\n",
       "</style>\n",
       "<table border=\"1\" class=\"dataframe\">\n",
       "  <thead>\n",
       "    <tr style=\"text-align: right;\">\n",
       "      <th></th>\n",
       "      <th>id</th>\n",
       "      <th>gender</th>\n",
       "      <th>age</th>\n",
       "      <th>hypertension</th>\n",
       "      <th>heart_disease</th>\n",
       "      <th>ever_married</th>\n",
       "      <th>work_type</th>\n",
       "      <th>Residence_type</th>\n",
       "      <th>avg_glucose_level</th>\n",
       "      <th>bmi</th>\n",
       "      <th>smoking_status</th>\n",
       "      <th>stroke</th>\n",
       "    </tr>\n",
       "  </thead>\n",
       "  <tbody>\n",
       "    <tr>\n",
       "      <th>0</th>\n",
       "      <td>9046</td>\n",
       "      <td>Male</td>\n",
       "      <td>67.0</td>\n",
       "      <td>0</td>\n",
       "      <td>1</td>\n",
       "      <td>Yes</td>\n",
       "      <td>Private</td>\n",
       "      <td>Urban</td>\n",
       "      <td>228.69</td>\n",
       "      <td>36.600000</td>\n",
       "      <td>formerly smoked</td>\n",
       "      <td>1</td>\n",
       "    </tr>\n",
       "    <tr>\n",
       "      <th>1</th>\n",
       "      <td>51676</td>\n",
       "      <td>Female</td>\n",
       "      <td>61.0</td>\n",
       "      <td>0</td>\n",
       "      <td>0</td>\n",
       "      <td>Yes</td>\n",
       "      <td>Self-employed</td>\n",
       "      <td>Rural</td>\n",
       "      <td>202.21</td>\n",
       "      <td>29.879487</td>\n",
       "      <td>never smoked</td>\n",
       "      <td>1</td>\n",
       "    </tr>\n",
       "    <tr>\n",
       "      <th>2</th>\n",
       "      <td>31112</td>\n",
       "      <td>Male</td>\n",
       "      <td>80.0</td>\n",
       "      <td>0</td>\n",
       "      <td>1</td>\n",
       "      <td>Yes</td>\n",
       "      <td>Private</td>\n",
       "      <td>Rural</td>\n",
       "      <td>105.92</td>\n",
       "      <td>32.500000</td>\n",
       "      <td>never smoked</td>\n",
       "      <td>1</td>\n",
       "    </tr>\n",
       "    <tr>\n",
       "      <th>3</th>\n",
       "      <td>60182</td>\n",
       "      <td>Female</td>\n",
       "      <td>49.0</td>\n",
       "      <td>0</td>\n",
       "      <td>0</td>\n",
       "      <td>Yes</td>\n",
       "      <td>Private</td>\n",
       "      <td>Urban</td>\n",
       "      <td>171.23</td>\n",
       "      <td>34.400000</td>\n",
       "      <td>smokes</td>\n",
       "      <td>1</td>\n",
       "    </tr>\n",
       "    <tr>\n",
       "      <th>4</th>\n",
       "      <td>1665</td>\n",
       "      <td>Female</td>\n",
       "      <td>79.0</td>\n",
       "      <td>1</td>\n",
       "      <td>0</td>\n",
       "      <td>Yes</td>\n",
       "      <td>Self-employed</td>\n",
       "      <td>Rural</td>\n",
       "      <td>174.12</td>\n",
       "      <td>24.000000</td>\n",
       "      <td>never smoked</td>\n",
       "      <td>1</td>\n",
       "    </tr>\n",
       "  </tbody>\n",
       "</table>\n",
       "</div>"
      ],
      "text/plain": [
       "      id  gender   age  hypertension  heart_disease ever_married  \\\n",
       "0   9046    Male  67.0             0              1          Yes   \n",
       "1  51676  Female  61.0             0              0          Yes   \n",
       "2  31112    Male  80.0             0              1          Yes   \n",
       "3  60182  Female  49.0             0              0          Yes   \n",
       "4   1665  Female  79.0             1              0          Yes   \n",
       "\n",
       "       work_type Residence_type  avg_glucose_level        bmi  \\\n",
       "0        Private          Urban             228.69  36.600000   \n",
       "1  Self-employed          Rural             202.21  29.879487   \n",
       "2        Private          Rural             105.92  32.500000   \n",
       "3        Private          Urban             171.23  34.400000   \n",
       "4  Self-employed          Rural             174.12  24.000000   \n",
       "\n",
       "    smoking_status  stroke  \n",
       "0  formerly smoked       1  \n",
       "1     never smoked       1  \n",
       "2     never smoked       1  \n",
       "3           smokes       1  \n",
       "4     never smoked       1  "
      ]
     },
     "execution_count": 19,
     "metadata": {},
     "output_type": "execute_result"
    }
   ],
   "source": [
    "# Tahmin edilen vücut kitle endekslerini ana verisetime ekliyorum artık\n",
    "df.loc[kayipVeriler.index, \"bmi\"] = tahminEdilenBmi\n",
    "\n",
    "print(df.isnull().sum())\n",
    "df.head(5)"
   ]
  },
  {
   "cell_type": "markdown",
   "id": "28853e85",
   "metadata": {},
   "source": [
    "Veri setindeki kayıp verileri böylelikle doldurdum. Felç tahminlerine geçmeden önce istatistikler ile verilerin felç riskini ne kadar etkilediğini görmeye geldi sıra."
   ]
  },
  {
   "cell_type": "markdown",
   "id": "3d2c827c",
   "metadata": {},
   "source": [
    "# İstatistikler\n",
    "## Pasta Grafiği ile Felçli olan ve Olmayanları Oranlama"
   ]
  },
  {
   "cell_type": "code",
   "execution_count": 20,
   "id": "131bb0cb",
   "metadata": {},
   "outputs": [],
   "source": [
    "import matplotlib.pyplot as plt\n",
    "import matplotlib.ticker as mtick\n",
    "from matplotlib.ticker import FormatStrFormatter"
   ]
  },
  {
   "cell_type": "code",
   "execution_count": 21,
   "id": "dc18b96a",
   "metadata": {},
   "outputs": [
    {
     "data": {
      "image/png": "[encoded data removed]",
      "text/plain": [
       "<Figure size 720x720 with 1 Axes>"
      ]
     },
     "metadata": {},
     "output_type": "display_data"
    }
   ],
   "source": [
    "plt.figure(figsize=(10,10))\n",
    "plt.pie([len(df[df[\"stroke\"] == 0]), len(df[df[\"stroke\"] == 1])],\n",
    "        labels=[\"Felç Geçirmemiş\", \"Felçli\"],\n",
    "        startangle=90,\n",
    "        autopct=\"%.2f%%\",\n",
    "        shadow=True\n",
    "       )\n",
    "\n",
    "plt.title(\"Felç Geçiren ve Geçirmeyenlerin Oranları\")\n",
    "plt.show()"
   ]
  },
  {
   "cell_type": "markdown",
   "id": "c9ce1e25",
   "metadata": {},
   "source": [
    "## Cinsiyet Dağıtılımı"
   ]
  },
  {
   "cell_type": "code",
   "execution_count": 22,
   "id": "5b5f3b1c",
   "metadata": {
    "scrolled": false
   },
   "outputs": [
    {
     "data": {
      "image/png": "[encoded data removed]",
      "text/plain": [
       "<Figure size 576x576 with 1 Axes>"
      ]
     },
     "metadata": {},
     "output_type": "display_data"
    }
   ],
   "source": [
    "plt.figure(figsize=(8,8))\n",
    "plt.pie([len(df[df[\"gender\"] == \"Male\"]), len(df[df[\"gender\"] == \"Female\"])],\n",
    "        labels=[\"Erkek\", \"Kadın\"],\n",
    "        startangle=90,\n",
    "        autopct=\"%.2f%%\",\n",
    "        shadow=True\n",
    "       )\n",
    "\n",
    "plt.title(\"Cinsiyet Oranları\")\n",
    "plt.show()"
   ]
  },
  {
   "cell_type": "code",
   "execution_count": 23,
   "id": "af3c01c6",
   "metadata": {},
   "outputs": [
    {
     "data": {
      "text/plain": [
       "Female    2994\n",
       "Male      2115\n",
       "Name: gender, dtype: int64"
      ]
     },
     "execution_count": 23,
     "metadata": {},
     "output_type": "execute_result"
    }
   ],
   "source": [
    "df[\"gender\"].value_counts()"
   ]
  },
  {
   "cell_type": "markdown",
   "id": "885fe544",
   "metadata": {},
   "source": [
    "## Cinsiyete Göre Felç Geçiren ve Geçirmeyen\n",
    "### Grafik için verilerin analizi ve hazırlanması"
   ]
  },
  {
   "cell_type": "code",
   "execution_count": 24,
   "id": "9782c8d6",
   "metadata": {},
   "outputs": [
    {
     "data": {
      "text/html": [
       "<div>\n",
       "<style scoped>\n",
       "    .dataframe tbody tr th:only-of-type {\n",
       "        vertical-align: middle;\n",
       "    }\n",
       "\n",
       "    .dataframe tbody tr th {\n",
       "        vertical-align: top;\n",
       "    }\n",
       "\n",
       "    .dataframe thead th {\n",
       "        text-align: right;\n",
       "    }\n",
       "</style>\n",
       "<table border=\"1\" class=\"dataframe\">\n",
       "  <thead>\n",
       "    <tr style=\"text-align: right;\">\n",
       "      <th></th>\n",
       "      <th>Cinsiyet</th>\n",
       "      <th>Felç Geçiren</th>\n",
       "      <th>Felç Geçiren Oranı</th>\n",
       "      <th>Felç Geçirmeyen</th>\n",
       "      <th>Felç Geçirmeyen Oranı</th>\n",
       "    </tr>\n",
       "  </thead>\n",
       "  <tbody>\n",
       "    <tr>\n",
       "      <th>0</th>\n",
       "      <td>Male</td>\n",
       "      <td>0</td>\n",
       "      <td>0</td>\n",
       "      <td>0</td>\n",
       "      <td>0</td>\n",
       "    </tr>\n",
       "    <tr>\n",
       "      <th>1</th>\n",
       "      <td>Female</td>\n",
       "      <td>0</td>\n",
       "      <td>0</td>\n",
       "      <td>0</td>\n",
       "      <td>0</td>\n",
       "    </tr>\n",
       "  </tbody>\n",
       "</table>\n",
       "</div>"
      ],
      "text/plain": [
       "  Cinsiyet  Felç Geçiren  Felç Geçiren Oranı  Felç Geçirmeyen  \\\n",
       "0     Male             0                   0                0   \n",
       "1   Female             0                   0                0   \n",
       "\n",
       "   Felç Geçirmeyen Oranı  \n",
       "0                      0  \n",
       "1                      0  "
      ]
     },
     "execution_count": 24,
     "metadata": {},
     "output_type": "execute_result"
    }
   ],
   "source": [
    "istatistik_data = pd.DataFrame(columns=[\"Felç Geçiren\", \"Felç Geçiren Oranı\", \"Felç Geçirmeyen\", \"Felç Geçirmeyen Oranı\"])\n",
    "istatistik_data.insert(0, \"Cinsiyet\", df[\"gender\"].unique())\n",
    "istatistik_data.fillna(0, inplace=True)\n",
    "istatistik_data"
   ]
  },
  {
   "cell_type": "code",
   "execution_count": 25,
   "id": "69c562e3",
   "metadata": {
    "scrolled": true
   },
   "outputs": [
    {
     "data": {
      "text/html": [
       "<div>\n",
       "<style scoped>\n",
       "    .dataframe tbody tr th:only-of-type {\n",
       "        vertical-align: middle;\n",
       "    }\n",
       "\n",
       "    .dataframe tbody tr th {\n",
       "        vertical-align: top;\n",
       "    }\n",
       "\n",
       "    .dataframe thead th {\n",
       "        text-align: right;\n",
       "    }\n",
       "</style>\n",
       "<table border=\"1\" class=\"dataframe\">\n",
       "  <thead>\n",
       "    <tr style=\"text-align: right;\">\n",
       "      <th></th>\n",
       "      <th>Cinsiyet</th>\n",
       "      <th>Felç Geçiren</th>\n",
       "      <th>Felç Geçiren Oranı</th>\n",
       "      <th>Felç Geçirmeyen</th>\n",
       "      <th>Felç Geçirmeyen Oranı</th>\n",
       "    </tr>\n",
       "  </thead>\n",
       "  <tbody>\n",
       "    <tr>\n",
       "      <th>0</th>\n",
       "      <td>Erkek</td>\n",
       "      <td>108</td>\n",
       "      <td>0</td>\n",
       "      <td>2007</td>\n",
       "      <td>0</td>\n",
       "    </tr>\n",
       "    <tr>\n",
       "      <th>1</th>\n",
       "      <td>Kadın</td>\n",
       "      <td>141</td>\n",
       "      <td>0</td>\n",
       "      <td>2853</td>\n",
       "      <td>0</td>\n",
       "    </tr>\n",
       "  </tbody>\n",
       "</table>\n",
       "</div>"
      ],
      "text/plain": [
       "  Cinsiyet  Felç Geçiren  Felç Geçiren Oranı  Felç Geçirmeyen  \\\n",
       "0    Erkek           108                   0             2007   \n",
       "1    Kadın           141                   0             2853   \n",
       "\n",
       "   Felç Geçirmeyen Oranı  \n",
       "0                      0  \n",
       "1                      0  "
      ]
     },
     "execution_count": 25,
     "metadata": {},
     "output_type": "execute_result"
    }
   ],
   "source": [
    "for i in range(len(istatistik_data)):\n",
    "    for d in range(len(df[\"stroke\"])):\n",
    "        if(df[\"gender\"][d] == istatistik_data[\"Cinsiyet\"][i] and df[\"stroke\"][d] == 1):\n",
    "            istatistik_data.loc[i, \"Felç Geçiren\"] += 1\n",
    "        elif(df[\"gender\"][d] == istatistik_data[\"Cinsiyet\"][i] and df[\"stroke\"][d] == 0):\n",
    "            istatistik_data.loc[i, \"Felç Geçirmeyen\"] += 1 \n",
    "istatistik_data[\"Cinsiyet\"] = istatistik_data[\"Cinsiyet\"].replace({\"Male\": \"Erkek\", \"Female\": \"Kadın\"})\n",
    "istatistik_data"
   ]
  },
  {
   "cell_type": "markdown",
   "id": "f098a35a",
   "metadata": {},
   "source": [
    "### Bar Grafiği ile Gösterim"
   ]
  },
  {
   "cell_type": "code",
   "execution_count": 26,
   "id": "85eca5aa",
   "metadata": {},
   "outputs": [
    {
     "data": {
      "image/png": "[encoded data removed]",
      "text/plain": [
       "<Figure size 576x432 with 1 Axes>"
      ]
     },
     "metadata": {
      "needs_background": "light"
     },
     "output_type": "display_data"
    }
   ],
   "source": [
    "X_cinsiyet_axis = np.arange(len(istatistik_data[\"Cinsiyet\"]))\n",
    "\n",
    "plt.figure(figsize=(8,6))\n",
    "plt.bar(X_cinsiyet_axis - 0.2, istatistik_data[\"Felç Geçiren\"], 0.4, color=\"red\", label = \"Felç Geçiren\")\n",
    "plt.bar(X_cinsiyet_axis + 0.2, istatistik_data[\"Felç Geçirmeyen\"], 0.4, color=\"lime\", label = \"Felç GEçirmeyen\")\n",
    "plt.xticks(X_cinsiyet_axis, istatistik_data[\"Cinsiyet\"])\n",
    "plt.xlabel(\"Cinsiyet\")\n",
    "plt.ylabel(\"Felç Geçiren ve Geçirmeyen Kişi Sayısı\")\n",
    "plt.title(\"Cinsiyete Göre Felç Geçiren ve Geçirmeyen Kişiler\")\n",
    "plt.legend()\n",
    "plt.show()"
   ]
  },
  {
   "cell_type": "markdown",
   "id": "6b4b965b",
   "metadata": {},
   "source": [
    "## Cinsiyete Göre Felç Geçiren ve Geçirmeyenleri Oranlamak"
   ]
  },
  {
   "cell_type": "code",
   "execution_count": 27,
   "id": "1cba8878",
   "metadata": {},
   "outputs": [
    {
     "data": {
      "text/html": [
       "<div>\n",
       "<style scoped>\n",
       "    .dataframe tbody tr th:only-of-type {\n",
       "        vertical-align: middle;\n",
       "    }\n",
       "\n",
       "    .dataframe tbody tr th {\n",
       "        vertical-align: top;\n",
       "    }\n",
       "\n",
       "    .dataframe thead th {\n",
       "        text-align: right;\n",
       "    }\n",
       "</style>\n",
       "<table border=\"1\" class=\"dataframe\">\n",
       "  <thead>\n",
       "    <tr style=\"text-align: right;\">\n",
       "      <th></th>\n",
       "      <th>Cinsiyet</th>\n",
       "      <th>Felç Geçiren</th>\n",
       "      <th>Felç Geçiren Oranı</th>\n",
       "      <th>Felç Geçirmeyen</th>\n",
       "      <th>Felç Geçirmeyen Oranı</th>\n",
       "    </tr>\n",
       "  </thead>\n",
       "  <tbody>\n",
       "    <tr>\n",
       "      <th>0</th>\n",
       "      <td>Erkek</td>\n",
       "      <td>108</td>\n",
       "      <td>43.373494</td>\n",
       "      <td>2007</td>\n",
       "      <td>41.296296</td>\n",
       "    </tr>\n",
       "    <tr>\n",
       "      <th>1</th>\n",
       "      <td>Kadın</td>\n",
       "      <td>141</td>\n",
       "      <td>56.626506</td>\n",
       "      <td>2853</td>\n",
       "      <td>58.703704</td>\n",
       "    </tr>\n",
       "  </tbody>\n",
       "</table>\n",
       "</div>"
      ],
      "text/plain": [
       "  Cinsiyet  Felç Geçiren  Felç Geçiren Oranı  Felç Geçirmeyen  \\\n",
       "0    Erkek           108           43.373494             2007   \n",
       "1    Kadın           141           56.626506             2853   \n",
       "\n",
       "   Felç Geçirmeyen Oranı  \n",
       "0              41.296296  \n",
       "1              58.703704  "
      ]
     },
     "execution_count": 27,
     "metadata": {},
     "output_type": "execute_result"
    }
   ],
   "source": [
    "for i in range(len(istatistik_data)):\n",
    "    istatistik_data.loc[i, \"Felç Geçiren Oranı\"] = istatistik_data.loc[i, \"Felç Geçiren\"]/sum(istatistik_data[\"Felç Geçiren\"])*100\n",
    "    istatistik_data.loc[i, \"Felç Geçirmeyen Oranı\"] = istatistik_data.loc[i, \"Felç Geçirmeyen\"]/sum(istatistik_data[\"Felç Geçirmeyen\"])*100\n",
    "    \n",
    "istatistik_data"
   ]
  },
  {
   "cell_type": "code",
   "execution_count": 28,
   "id": "c426b06c",
   "metadata": {},
   "outputs": [
    {
     "data": {
      "image/png": "[encoded data removed]",
      "text/plain": [
       "<Figure size 576x432 with 1 Axes>"
      ]
     },
     "metadata": {
      "needs_background": "light"
     },
     "output_type": "display_data"
    }
   ],
   "source": [
    "X_cinsiyet_axis = np.arange(len(istatistik_data[\"Cinsiyet\"]))\n",
    "\n",
    "plt.figure(figsize=(8,6))\n",
    "plt.bar(X_cinsiyet_axis - 0.2, istatistik_data[\"Felç Geçiren Oranı\"], 0.4, color=\"red\", label = \"Felç Geçiren\")\n",
    "plt.bar(X_cinsiyet_axis + 0.2, istatistik_data[\"Felç Geçirmeyen Oranı\"], 0.4, color=\"lime\", label = \"Felç Geçirmeyen\")\n",
    "plt.xticks(X_cinsiyet_axis, istatistik_data[\"Cinsiyet\"])\n",
    "plt.xlabel(\"Cinsiyet\")\n",
    "plt.ylabel(\"Felç Geçiren ve Geçirmeyen Kişi Sayısı\")\n",
    "plt.title(\"Cinsiyete Göre Felç Geçiren ve Geçirmeyen Kişilerin Oranları\")\n",
    "plt.gca().yaxis.set_major_formatter(mtick.StrMethodFormatter('%{x:,.2f}'))\n",
    "plt.legend()\n",
    "plt.show()"
   ]
  },
  {
   "cell_type": "markdown",
   "id": "aae58c10",
   "metadata": {},
   "source": [
    "## Yaş Dağıtımları\n",
    "### Grafik için verilerin analizi ve hazırlanması"
   ]
  },
  {
   "cell_type": "code",
   "execution_count": 29,
   "id": "88dd8ddf",
   "metadata": {},
   "outputs": [
    {
     "name": "stdout",
     "output_type": "stream",
     "text": [
      "Min Yaş:  0.08\n",
      "Max Yaş:  82.0\n"
     ]
    }
   ],
   "source": [
    "minYas = df[\"age\"].min()\n",
    "maxYas = df[\"age\"].max()\n",
    "\n",
    "print(\"Min Yaş: \", minYas)\n",
    "print(\"Max Yaş: \", maxYas)"
   ]
  },
  {
   "cell_type": "code",
   "execution_count": 30,
   "id": "35126bea",
   "metadata": {},
   "outputs": [
    {
     "name": "stdout",
     "output_type": "stream",
     "text": [
      "[0.08, 0.16, 0.24, 0.32, 0.4, 0.48, 0.56, 0.64, 0.72, 0.8, 0.88, 1.0, 1.08, 1.16, 1.24, 1.32, 1.4, 1.48, 1.56, 1.64, 1.72, 1.8, 1.88, 2.0, 3.0, 4.0, 5.0, 6.0, 7.0, 8.0, 9.0, 10.0, 11.0, 12.0, 13.0, 14.0, 15.0, 16.0, 17.0, 18.0, 19.0, 20.0, 21.0, 22.0, 23.0, 24.0, 25.0, 26.0, 27.0, 28.0, 29.0, 30.0, 31.0, 32.0, 33.0, 34.0, 35.0, 36.0, 37.0, 38.0, 39.0, 40.0, 41.0, 42.0, 43.0, 44.0, 45.0, 46.0, 47.0, 48.0, 49.0, 50.0, 51.0, 52.0, 53.0, 54.0, 55.0, 56.0, 57.0, 58.0, 59.0, 60.0, 61.0, 62.0, 63.0, 64.0, 65.0, 66.0, 67.0, 68.0, 69.0, 70.0, 71.0, 72.0, 73.0, 74.0, 75.0, 76.0, 77.0, 78.0, 79.0, 80.0, 81.0, 82.0]\n"
     ]
    }
   ],
   "source": [
    "yaslar = sorted(df[\"age\"].unique())\n",
    "print(yaslar)\n"
   ]
  },
  {
   "cell_type": "code",
   "execution_count": 31,
   "id": "6f28751c",
   "metadata": {},
   "outputs": [
    {
     "name": "stdout",
     "output_type": "stream",
     "text": [
      "[2, 3, 5, 5, 2, 3, 5, 4, 5, 4, 5, 5, 8, 4, 8, 8, 3, 6, 4, 8, 6, 9, 8, 55, 46, 34, 65, 24, 32, 58, 38, 35, 36, 45, 57, 54, 45, 52, 60, 60, 50, 59, 47, 45, 64, 55, 57, 61, 55, 54, 51, 55, 79, 71, 57, 68, 54, 52, 76, 72, 71, 74, 73, 71, 70, 75, 85, 62, 75, 66, 79, 83, 86, 90, 85, 87, 83, 77, 95, 68, 80, 72, 76, 74, 74, 53, 62, 60, 49, 47, 54, 45, 61, 45, 46, 40, 53, 50, 42, 102, 85, 70, 60, 56]\n"
     ]
    },
    {
     "data": {
      "image/png": "[encoded data removed]",
      "text/plain": [
       "<Figure size 1224x432 with 1 Axes>"
      ]
     },
     "metadata": {
      "needs_background": "light"
     },
     "output_type": "display_data"
    }
   ],
   "source": [
    "yasaGoreKisiSayisi = []\n",
    "\n",
    "for y in yaslar:\n",
    "    yasaGoreKisiSayisi.append(len(df[df[\"age\"] == y]))\n",
    "\n",
    "print(yasaGoreKisiSayisi)\n",
    "    \n",
    "plt.figure(figsize=(17,6))\n",
    "plt.title(\"Yaş Dağılımı\")\n",
    "plt.plot(yaslar, yasaGoreKisiSayisi, label=\"Kişi Sayısı\")\n",
    "plt.grid(True)\n",
    "plt.xticks(np.arange(0, max(yaslar)+2, 2))\n",
    "plt.xlabel(\"Yaşlar\")\n",
    "plt.ylabel(\"Kişi Sayısı\")\n",
    "plt.legend()\n",
    "plt.show()"
   ]
  },
  {
   "cell_type": "markdown",
   "id": "0b9e6de8",
   "metadata": {},
   "source": [
    "## Cinsiyete Göre Yaş Dağılımı\n",
    "### Grafik için verilerin analizi ve hazırlanması"
   ]
  },
  {
   "cell_type": "code",
   "execution_count": 32,
   "id": "415347aa",
   "metadata": {},
   "outputs": [
    {
     "name": "stdout",
     "output_type": "stream",
     "text": [
      "[1, 3, 5, 2, 1, 1, 4, 2, 2, 3, 4, 4, 5, 0, 1, 3, 1, 1, 2, 5, 5, 3, 5, 29, 17, 23, 33, 15, 13, 32, 26, 21, 20, 22, 27, 27, 25, 22, 23, 27, 21, 21, 18, 13, 17, 18, 22, 17, 17, 16, 15, 20, 27, 27, 22, 26, 17, 18, 27, 23, 31, 26, 26, 24, 28, 30, 24, 31, 31, 28, 32, 28, 32, 36, 37, 39, 42, 30, 44, 36, 38, 32, 34, 33, 32, 27, 24, 25, 25, 17, 20, 19, 31, 19, 22, 16, 21, 22, 15, 42, 26, 28, 22, 23]\n",
      "[1, 0, 0, 3, 1, 2, 1, 2, 3, 1, 1, 1, 3, 4, 7, 5, 2, 5, 2, 3, 1, 6, 3, 26, 29, 11, 32, 9, 19, 26, 12, 14, 16, 23, 30, 27, 20, 30, 37, 33, 29, 38, 29, 32, 47, 37, 35, 44, 38, 38, 36, 35, 52, 44, 35, 42, 37, 34, 49, 49, 40, 48, 47, 47, 42, 45, 61, 31, 44, 38, 47, 55, 54, 54, 48, 48, 41, 47, 51, 32, 42, 40, 42, 41, 42, 26, 38, 35, 24, 30, 34, 26, 30, 26, 24, 24, 32, 28, 27, 60, 59, 42, 38, 33]\n"
     ]
    },
    {
     "data": {
      "image/png": "[encoded data removed]",
      "text/plain": [
       "<Figure size 1224x432 with 1 Axes>"
      ]
     },
     "metadata": {
      "needs_background": "light"
     },
     "output_type": "display_data"
    }
   ],
   "source": [
    "erkekYas = []\n",
    "kadinYas = []\n",
    "digerYas = []\n",
    "\n",
    "for y in yaslar:\n",
    "    erkekYas.append(len(df.query('gender==\"Male\" and age==' + str(y))))\n",
    "    kadinYas.append(len(df.query('gender==\"Female\" and age==' + str(y))))\n",
    "    digerYas.append(len(df.query('gender==\"Other\" and age==' + str(y))))\n",
    "\n",
    "print(erkekYas)\n",
    "print(kadinYas)\n",
    "\n",
    "plt.figure(figsize=(17,6))\n",
    "plt.title(\"Cinsiyetlere Göre Yaş Dağıtılımı\")\n",
    "plt.plot(yaslar, erkekYas, color=\"blue\", label=\"Erkek\")\n",
    "plt.plot(yaslar, kadinYas, color=\"magenta\", label=\"Kadın\")\n",
    "plt.plot(yaslar, digerYas, color=\"green\", label=\"Diğer\")\n",
    "plt.grid(True)\n",
    "plt.xticks(np.arange(0, max(yaslar)+2, 2))\n",
    "plt.xlabel(\"Yaşlar\")\n",
    "plt.ylabel(\"Kişi Sayısı\")\n",
    "plt.legend()\n",
    "plt.show()"
   ]
  },
  {
   "cell_type": "markdown",
   "id": "e5bcf589",
   "metadata": {},
   "source": [
    "## Yaşa Göre Felç Geçirme Olasılığı"
   ]
  },
  {
   "cell_type": "code",
   "execution_count": 33,
   "id": "6d006675",
   "metadata": {},
   "outputs": [
    {
     "data": {
      "image/png": "[encoded data removed]",
      "text/plain": [
       "<Figure size 1224x432 with 1 Axes>"
      ]
     },
     "metadata": {
      "needs_background": "light"
     },
     "output_type": "display_data"
    }
   ],
   "source": [
    "yasaGoreFelcGecirenler = []\n",
    "\n",
    "for y in yaslar:\n",
    "    yasaGoreFelcGecirenler.append(len(df.query('stroke==1 and age==' + str(y))))\n",
    "\n",
    "yasaGoreFelcGecirenler = np.array(yasaGoreFelcGecirenler)\n",
    "yasaGoreFelcGecirenler = yasaGoreFelcGecirenler/max(yasaGoreFelcGecirenler)\n",
    "\n",
    "yasaGoreKisiSayisi2 = np.array(yasaGoreKisiSayisi)\n",
    "yasaGoreKisiSayisi2 = yasaGoreKisiSayisi2/max(yasaGoreKisiSayisi2)\n",
    "\n",
    "\n",
    "\n",
    "plt.figure(figsize=(17,6))\n",
    "plt.title(\"Yaşa Göre Felç Geçirme\")\n",
    "plt.plot(yaslar, yasaGoreKisiSayisi2, color=\"blue\", label=\"Yaşa Göre Kişi Sayısı\")\n",
    "plt.plot(yaslar, yasaGoreFelcGecirenler, color=\"red\", label=\"Felç Geçiren Kişi Sayısı\")\n",
    "plt.grid(True)\n",
    "plt.xticks(np.arange(0, max(yaslar)+2, 2))\n",
    "plt.xlabel(\"Yaşlar\")\n",
    "plt.legend()\n",
    "plt.show()"
   ]
  },
  {
   "cell_type": "markdown",
   "id": "96f28b70",
   "metadata": {},
   "source": [
    "## Sigara Kullanım Oranları"
   ]
  },
  {
   "cell_type": "markdown",
   "id": "93d8f301",
   "metadata": {},
   "source": [
    "### İstatistik için verilerin analizi"
   ]
  },
  {
   "cell_type": "code",
   "execution_count": 34,
   "id": "990e0b38",
   "metadata": {},
   "outputs": [
    {
     "name": "stdout",
     "output_type": "stream",
     "text": [
      "['formerly smoked' 'never smoked' 'smokes' 'Unknown']\n"
     ]
    },
    {
     "data": {
      "text/plain": [
       "formerly smoked     884\n",
       "never smoked       1892\n",
       "smokes              789\n",
       "Unknown            1544\n",
       "Name: smoking_status, dtype: int64"
      ]
     },
     "execution_count": 34,
     "metadata": {},
     "output_type": "execute_result"
    }
   ],
   "source": [
    "print(df[\"smoking_status\"].unique())\n",
    "df[\"smoking_status\"].value_counts(sort=False)"
   ]
  },
  {
   "cell_type": "code",
   "execution_count": 35,
   "id": "09a9502a",
   "metadata": {},
   "outputs": [
    {
     "data": {
      "image/png": "[encoded data removed]",
      "text/plain": [
       "<Figure size 576x576 with 1 Axes>"
      ]
     },
     "metadata": {},
     "output_type": "display_data"
    }
   ],
   "source": [
    "plt.figure(figsize=(8,8))\n",
    "plt.pie(df[\"smoking_status\"].value_counts(sort=False),\n",
    "        labels=df[\"smoking_status\"].unique(),\n",
    "        startangle=90,\n",
    "        autopct=\"%.2f%%\",\n",
    "        shadow=True\n",
    "       )\n",
    "\n",
    "plt.title(\"Sigara Kullanım Oranları\")\n",
    "plt.show()"
   ]
  },
  {
   "cell_type": "markdown",
   "id": "bde0670f",
   "metadata": {},
   "source": [
    "## Sigara Kullanımına Göre Felç Geçirme Oranı\n",
    "### İstatistik için verilerin analizi"
   ]
  },
  {
   "cell_type": "code",
   "execution_count": 36,
   "id": "216a6ecf",
   "metadata": {},
   "outputs": [
    {
     "data": {
      "text/html": [
       "<div>\n",
       "<style scoped>\n",
       "    .dataframe tbody tr th:only-of-type {\n",
       "        vertical-align: middle;\n",
       "    }\n",
       "\n",
       "    .dataframe tbody tr th {\n",
       "        vertical-align: top;\n",
       "    }\n",
       "\n",
       "    .dataframe thead th {\n",
       "        text-align: right;\n",
       "    }\n",
       "</style>\n",
       "<table border=\"1\" class=\"dataframe\">\n",
       "  <thead>\n",
       "    <tr style=\"text-align: right;\">\n",
       "      <th></th>\n",
       "      <th>Sigara Kullanım</th>\n",
       "      <th>Felç Geçiren</th>\n",
       "      <th>Felç Geçiren Oran</th>\n",
       "      <th>Felç Geçirmeyen</th>\n",
       "      <th>Felç Geçirmeyen Oran</th>\n",
       "    </tr>\n",
       "  </thead>\n",
       "  <tbody>\n",
       "    <tr>\n",
       "      <th>0</th>\n",
       "      <td>formerly smoked</td>\n",
       "      <td>0</td>\n",
       "      <td>0</td>\n",
       "      <td>0</td>\n",
       "      <td>0</td>\n",
       "    </tr>\n",
       "    <tr>\n",
       "      <th>1</th>\n",
       "      <td>never smoked</td>\n",
       "      <td>0</td>\n",
       "      <td>0</td>\n",
       "      <td>0</td>\n",
       "      <td>0</td>\n",
       "    </tr>\n",
       "    <tr>\n",
       "      <th>2</th>\n",
       "      <td>smokes</td>\n",
       "      <td>0</td>\n",
       "      <td>0</td>\n",
       "      <td>0</td>\n",
       "      <td>0</td>\n",
       "    </tr>\n",
       "    <tr>\n",
       "      <th>3</th>\n",
       "      <td>Unknown</td>\n",
       "      <td>0</td>\n",
       "      <td>0</td>\n",
       "      <td>0</td>\n",
       "      <td>0</td>\n",
       "    </tr>\n",
       "  </tbody>\n",
       "</table>\n",
       "</div>"
      ],
      "text/plain": [
       "   Sigara Kullanım  Felç Geçiren  Felç Geçiren Oran  Felç Geçirmeyen  \\\n",
       "0  formerly smoked             0                  0                0   \n",
       "1     never smoked             0                  0                0   \n",
       "2           smokes             0                  0                0   \n",
       "3          Unknown             0                  0                0   \n",
       "\n",
       "   Felç Geçirmeyen Oran  \n",
       "0                     0  \n",
       "1                     0  \n",
       "2                     0  \n",
       "3                     0  "
      ]
     },
     "execution_count": 36,
     "metadata": {},
     "output_type": "execute_result"
    }
   ],
   "source": [
    "istatistik_data2 = pd.DataFrame(columns=[\"Felç Geçiren\", \"Felç Geçiren Oran\", \"Felç Geçirmeyen\", \"Felç Geçirmeyen Oran\"])\n",
    "istatistik_data2.insert(0, \"Sigara Kullanım\", df[\"smoking_status\"].unique())\n",
    "istatistik_data2.fillna(0, inplace=True)\n",
    "istatistik_data2"
   ]
  },
  {
   "cell_type": "code",
   "execution_count": 37,
   "id": "ac42f913",
   "metadata": {},
   "outputs": [
    {
     "data": {
      "text/html": [
       "<div>\n",
       "<style scoped>\n",
       "    .dataframe tbody tr th:only-of-type {\n",
       "        vertical-align: middle;\n",
       "    }\n",
       "\n",
       "    .dataframe tbody tr th {\n",
       "        vertical-align: top;\n",
       "    }\n",
       "\n",
       "    .dataframe thead th {\n",
       "        text-align: right;\n",
       "    }\n",
       "</style>\n",
       "<table border=\"1\" class=\"dataframe\">\n",
       "  <thead>\n",
       "    <tr style=\"text-align: right;\">\n",
       "      <th></th>\n",
       "      <th>Sigara Kullanım</th>\n",
       "      <th>Felç Geçiren</th>\n",
       "      <th>Felç Geçiren Oran</th>\n",
       "      <th>Felç Geçirmeyen</th>\n",
       "      <th>Felç Geçirmeyen Oran</th>\n",
       "    </tr>\n",
       "  </thead>\n",
       "  <tbody>\n",
       "    <tr>\n",
       "      <th>0</th>\n",
       "      <td>formerly smoked</td>\n",
       "      <td>70</td>\n",
       "      <td>0</td>\n",
       "      <td>814</td>\n",
       "      <td>0</td>\n",
       "    </tr>\n",
       "    <tr>\n",
       "      <th>1</th>\n",
       "      <td>never smoked</td>\n",
       "      <td>90</td>\n",
       "      <td>0</td>\n",
       "      <td>1802</td>\n",
       "      <td>0</td>\n",
       "    </tr>\n",
       "    <tr>\n",
       "      <th>2</th>\n",
       "      <td>smokes</td>\n",
       "      <td>42</td>\n",
       "      <td>0</td>\n",
       "      <td>747</td>\n",
       "      <td>0</td>\n",
       "    </tr>\n",
       "    <tr>\n",
       "      <th>3</th>\n",
       "      <td>Unknown</td>\n",
       "      <td>47</td>\n",
       "      <td>0</td>\n",
       "      <td>1497</td>\n",
       "      <td>0</td>\n",
       "    </tr>\n",
       "  </tbody>\n",
       "</table>\n",
       "</div>"
      ],
      "text/plain": [
       "   Sigara Kullanım  Felç Geçiren  Felç Geçiren Oran  Felç Geçirmeyen  \\\n",
       "0  formerly smoked            70                  0              814   \n",
       "1     never smoked            90                  0             1802   \n",
       "2           smokes            42                  0              747   \n",
       "3          Unknown            47                  0             1497   \n",
       "\n",
       "   Felç Geçirmeyen Oran  \n",
       "0                     0  \n",
       "1                     0  \n",
       "2                     0  \n",
       "3                     0  "
      ]
     },
     "execution_count": 37,
     "metadata": {},
     "output_type": "execute_result"
    }
   ],
   "source": [
    "for i in range(len(istatistik_data2)):\n",
    "    istatistik_data2.loc[i, \"Felç Geçiren\"] = len(df.query('smoking_status==\"' + istatistik_data2.loc[i, \"Sigara Kullanım\"] + '\" and stroke==1'))\n",
    "    istatistik_data2.loc[i, \"Felç Geçirmeyen\"] = len(df.query('smoking_status==\"' + istatistik_data2.loc[i, \"Sigara Kullanım\"] + '\" and stroke==0'))\n",
    "       \n",
    "istatistik_data2"
   ]
  },
  {
   "cell_type": "code",
   "execution_count": 38,
   "id": "a8da38c4",
   "metadata": {},
   "outputs": [
    {
     "data": {
      "text/html": [
       "<div>\n",
       "<style scoped>\n",
       "    .dataframe tbody tr th:only-of-type {\n",
       "        vertical-align: middle;\n",
       "    }\n",
       "\n",
       "    .dataframe tbody tr th {\n",
       "        vertical-align: top;\n",
       "    }\n",
       "\n",
       "    .dataframe thead th {\n",
       "        text-align: right;\n",
       "    }\n",
       "</style>\n",
       "<table border=\"1\" class=\"dataframe\">\n",
       "  <thead>\n",
       "    <tr style=\"text-align: right;\">\n",
       "      <th></th>\n",
       "      <th>Sigara Kullanım</th>\n",
       "      <th>Felç Geçiren</th>\n",
       "      <th>Felç Geçiren Oran</th>\n",
       "      <th>Felç Geçirmeyen</th>\n",
       "      <th>Felç Geçirmeyen Oran</th>\n",
       "    </tr>\n",
       "  </thead>\n",
       "  <tbody>\n",
       "    <tr>\n",
       "      <th>0</th>\n",
       "      <td>formerly smoked</td>\n",
       "      <td>70</td>\n",
       "      <td>28.112450</td>\n",
       "      <td>814</td>\n",
       "      <td>16.748971</td>\n",
       "    </tr>\n",
       "    <tr>\n",
       "      <th>1</th>\n",
       "      <td>never smoked</td>\n",
       "      <td>90</td>\n",
       "      <td>36.144578</td>\n",
       "      <td>1802</td>\n",
       "      <td>37.078189</td>\n",
       "    </tr>\n",
       "    <tr>\n",
       "      <th>2</th>\n",
       "      <td>smokes</td>\n",
       "      <td>42</td>\n",
       "      <td>16.867470</td>\n",
       "      <td>747</td>\n",
       "      <td>15.370370</td>\n",
       "    </tr>\n",
       "    <tr>\n",
       "      <th>3</th>\n",
       "      <td>Unknown</td>\n",
       "      <td>47</td>\n",
       "      <td>18.875502</td>\n",
       "      <td>1497</td>\n",
       "      <td>30.802469</td>\n",
       "    </tr>\n",
       "  </tbody>\n",
       "</table>\n",
       "</div>"
      ],
      "text/plain": [
       "   Sigara Kullanım  Felç Geçiren  Felç Geçiren Oran  Felç Geçirmeyen  \\\n",
       "0  formerly smoked            70          28.112450              814   \n",
       "1     never smoked            90          36.144578             1802   \n",
       "2           smokes            42          16.867470              747   \n",
       "3          Unknown            47          18.875502             1497   \n",
       "\n",
       "   Felç Geçirmeyen Oran  \n",
       "0             16.748971  \n",
       "1             37.078189  \n",
       "2             15.370370  \n",
       "3             30.802469  "
      ]
     },
     "execution_count": 38,
     "metadata": {},
     "output_type": "execute_result"
    }
   ],
   "source": [
    "# Bar grafiğinde daha iyi karşılaştırma yapmak için oranlama\n",
    "for i in range(len(istatistik_data2)):\n",
    "    istatistik_data2.loc[i, \"Felç Geçiren Oran\"] = istatistik_data2.loc[i, \"Felç Geçiren\"]/sum(istatistik_data2[\"Felç Geçiren\"])*100\n",
    "    istatistik_data2.loc[i, \"Felç Geçirmeyen Oran\"] = istatistik_data2.loc[i, \"Felç Geçirmeyen\"]/sum(istatistik_data2[\"Felç Geçirmeyen\"])*100\n",
    "    \n",
    "istatistik_data2"
   ]
  },
  {
   "cell_type": "markdown",
   "id": "450bf8a6",
   "metadata": {},
   "source": [
    "### Bar Grafiği İle Gösterimi"
   ]
  },
  {
   "cell_type": "code",
   "execution_count": 39,
   "id": "9ad210d8",
   "metadata": {},
   "outputs": [
    {
     "data": {
      "image/png": "[encoded data removed]",
      "text/plain": [
       "<Figure size 576x432 with 1 Axes>"
      ]
     },
     "metadata": {
      "needs_background": "light"
     },
     "output_type": "display_data"
    }
   ],
   "source": [
    "X_sigara_kullanim_axis = np.arange(len(istatistik_data2[\"Sigara Kullanım\"]))\n",
    "\n",
    "plt.figure(figsize=(8,6))\n",
    "plt.bar(X_sigara_kullanim_axis - 0.2, istatistik_data2[\"Felç Geçiren Oran\"], 0.4, color=\"red\", label = \"Felç Geçiren\")\n",
    "plt.bar(X_sigara_kullanim_axis + 0.2, istatistik_data2[\"Felç Geçirmeyen Oran\"], 0.4, color=\"lime\", label = \"Felç Geçirmeyen\")\n",
    "plt.xticks(X_sigara_kullanim_axis, istatistik_data2[\"Sigara Kullanım\"])\n",
    "plt.xlabel(\"Sigara İçme Durumları\")\n",
    "plt.ylabel(\"Felç Geçiren ve Geçirmeyen Kişi Sayısı\")\n",
    "plt.title(\"Sigara İçimine Göre Felç Geçiren ve Geçirmeyen Kişilerin Oranları\")\n",
    "plt.gca().yaxis.set_major_formatter(mtick.StrMethodFormatter('%{x:,.2f}'))\n",
    "plt.legend()\n",
    "plt.show()"
   ]
  },
  {
   "cell_type": "markdown",
   "id": "9cd8d9ff",
   "metadata": {},
   "source": [
    "## Hipertansiyonun Felç'e Etkisi \n",
    "### İstatistik için verilerin analizi ve hazırlanması\n"
   ]
  },
  {
   "cell_type": "code",
   "execution_count": 40,
   "id": "d367c5fc",
   "metadata": {},
   "outputs": [
    {
     "data": {
      "text/html": [
       "<div>\n",
       "<style scoped>\n",
       "    .dataframe tbody tr th:only-of-type {\n",
       "        vertical-align: middle;\n",
       "    }\n",
       "\n",
       "    .dataframe tbody tr th {\n",
       "        vertical-align: top;\n",
       "    }\n",
       "\n",
       "    .dataframe thead th {\n",
       "        text-align: right;\n",
       "    }\n",
       "</style>\n",
       "<table border=\"1\" class=\"dataframe\">\n",
       "  <thead>\n",
       "    <tr style=\"text-align: right;\">\n",
       "      <th></th>\n",
       "      <th>hypertension</th>\n",
       "      <th>Felç Geçiren</th>\n",
       "      <th>Felç Geçiren Oran</th>\n",
       "      <th>Felç Geçirmeyen</th>\n",
       "      <th>Felç Geçirmeyen Oran</th>\n",
       "    </tr>\n",
       "  </thead>\n",
       "  <tbody>\n",
       "    <tr>\n",
       "      <th>0</th>\n",
       "      <td>0</td>\n",
       "      <td>0</td>\n",
       "      <td>0</td>\n",
       "      <td>0</td>\n",
       "      <td>0</td>\n",
       "    </tr>\n",
       "    <tr>\n",
       "      <th>1</th>\n",
       "      <td>1</td>\n",
       "      <td>0</td>\n",
       "      <td>0</td>\n",
       "      <td>0</td>\n",
       "      <td>0</td>\n",
       "    </tr>\n",
       "  </tbody>\n",
       "</table>\n",
       "</div>"
      ],
      "text/plain": [
       "   hypertension  Felç Geçiren  Felç Geçiren Oran  Felç Geçirmeyen  \\\n",
       "0             0             0                  0                0   \n",
       "1             1             0                  0                0   \n",
       "\n",
       "   Felç Geçirmeyen Oran  \n",
       "0                     0  \n",
       "1                     0  "
      ]
     },
     "execution_count": 40,
     "metadata": {},
     "output_type": "execute_result"
    }
   ],
   "source": [
    "istatistik_data3 = pd.DataFrame(columns=[\"Felç Geçiren\", \"Felç Geçiren Oran\", \"Felç Geçirmeyen\", \"Felç Geçirmeyen Oran\"])\n",
    "istatistik_data3.insert(0, \"hypertension\", df[\"hypertension\"].unique())\n",
    "istatistik_data3.fillna(0, inplace=True)\n",
    "istatistik_data3"
   ]
  },
  {
   "cell_type": "code",
   "execution_count": 41,
   "id": "ebf9c3a0",
   "metadata": {},
   "outputs": [
    {
     "data": {
      "text/html": [
       "<div>\n",
       "<style scoped>\n",
       "    .dataframe tbody tr th:only-of-type {\n",
       "        vertical-align: middle;\n",
       "    }\n",
       "\n",
       "    .dataframe tbody tr th {\n",
       "        vertical-align: top;\n",
       "    }\n",
       "\n",
       "    .dataframe thead th {\n",
       "        text-align: right;\n",
       "    }\n",
       "</style>\n",
       "<table border=\"1\" class=\"dataframe\">\n",
       "  <thead>\n",
       "    <tr style=\"text-align: right;\">\n",
       "      <th></th>\n",
       "      <th>hypertension</th>\n",
       "      <th>Felç Geçiren</th>\n",
       "      <th>Felç Geçiren Oran</th>\n",
       "      <th>Felç Geçirmeyen</th>\n",
       "      <th>Felç Geçirmeyen Oran</th>\n",
       "    </tr>\n",
       "  </thead>\n",
       "  <tbody>\n",
       "    <tr>\n",
       "      <th>0</th>\n",
       "      <td>0</td>\n",
       "      <td>183</td>\n",
       "      <td>0</td>\n",
       "      <td>4428</td>\n",
       "      <td>0</td>\n",
       "    </tr>\n",
       "    <tr>\n",
       "      <th>1</th>\n",
       "      <td>1</td>\n",
       "      <td>66</td>\n",
       "      <td>0</td>\n",
       "      <td>432</td>\n",
       "      <td>0</td>\n",
       "    </tr>\n",
       "  </tbody>\n",
       "</table>\n",
       "</div>"
      ],
      "text/plain": [
       "   hypertension  Felç Geçiren  Felç Geçiren Oran  Felç Geçirmeyen  \\\n",
       "0             0           183                  0             4428   \n",
       "1             1            66                  0              432   \n",
       "\n",
       "   Felç Geçirmeyen Oran  \n",
       "0                     0  \n",
       "1                     0  "
      ]
     },
     "execution_count": 41,
     "metadata": {},
     "output_type": "execute_result"
    }
   ],
   "source": [
    "for i in range(len(istatistik_data3)):\n",
    "    istatistik_data3.loc[i, \"Felç Geçiren\"] = len(df.query('hypertension==' + str(istatistik_data3.loc[i, \"hypertension\"]) + ' and stroke==1'))\n",
    "    istatistik_data3.loc[i, \"Felç Geçirmeyen\"] = len(df.query('hypertension==' + str(istatistik_data3.loc[i, \"hypertension\"]) + ' and stroke==0'))\n",
    "       \n",
    "istatistik_data3"
   ]
  },
  {
   "cell_type": "code",
   "execution_count": 42,
   "id": "a33d2484",
   "metadata": {},
   "outputs": [
    {
     "data": {
      "text/html": [
       "<div>\n",
       "<style scoped>\n",
       "    .dataframe tbody tr th:only-of-type {\n",
       "        vertical-align: middle;\n",
       "    }\n",
       "\n",
       "    .dataframe tbody tr th {\n",
       "        vertical-align: top;\n",
       "    }\n",
       "\n",
       "    .dataframe thead th {\n",
       "        text-align: right;\n",
       "    }\n",
       "</style>\n",
       "<table border=\"1\" class=\"dataframe\">\n",
       "  <thead>\n",
       "    <tr style=\"text-align: right;\">\n",
       "      <th></th>\n",
       "      <th>hypertension</th>\n",
       "      <th>Felç Geçiren</th>\n",
       "      <th>Felç Geçiren Oran</th>\n",
       "      <th>Felç Geçirmeyen</th>\n",
       "      <th>Felç Geçirmeyen Oran</th>\n",
       "    </tr>\n",
       "  </thead>\n",
       "  <tbody>\n",
       "    <tr>\n",
       "      <th>0</th>\n",
       "      <td>Hipertansiyon Öyküsü Yok</td>\n",
       "      <td>183</td>\n",
       "      <td>73.493976</td>\n",
       "      <td>4428</td>\n",
       "      <td>91.111111</td>\n",
       "    </tr>\n",
       "    <tr>\n",
       "      <th>1</th>\n",
       "      <td>Hipertansiyon Öyküsü Var</td>\n",
       "      <td>66</td>\n",
       "      <td>26.506024</td>\n",
       "      <td>432</td>\n",
       "      <td>8.888889</td>\n",
       "    </tr>\n",
       "  </tbody>\n",
       "</table>\n",
       "</div>"
      ],
      "text/plain": [
       "               hypertension  Felç Geçiren  Felç Geçiren Oran  Felç Geçirmeyen  \\\n",
       "0  Hipertansiyon Öyküsü Yok           183          73.493976             4428   \n",
       "1  Hipertansiyon Öyküsü Var            66          26.506024              432   \n",
       "\n",
       "   Felç Geçirmeyen Oran  \n",
       "0             91.111111  \n",
       "1              8.888889  "
      ]
     },
     "execution_count": 42,
     "metadata": {},
     "output_type": "execute_result"
    }
   ],
   "source": [
    "## Oranlama\n",
    "for i in range(len(istatistik_data3)):\n",
    "    istatistik_data3.loc[i, \"Felç Geçiren Oran\"] = istatistik_data3.loc[i, \"Felç Geçiren\"]/sum(istatistik_data3[\"Felç Geçiren\"])*100\n",
    "    istatistik_data3.loc[i, \"Felç Geçirmeyen Oran\"] = istatistik_data3.loc[i, \"Felç Geçirmeyen\"]/sum(istatistik_data3[\"Felç Geçirmeyen\"])*100\n",
    "    \n",
    "\n",
    "istatistik_data3[\"hypertension\"] = istatistik_data3[\"hypertension\"].replace({0: \"Hipertansiyon Öyküsü Yok\", 1: \"Hipertansiyon Öyküsü Var\"})\n",
    "istatistik_data3"
   ]
  },
  {
   "cell_type": "markdown",
   "id": "f2df43b8",
   "metadata": {},
   "source": [
    "### Bar Grafiği İle Gösterimi"
   ]
  },
  {
   "cell_type": "code",
   "execution_count": 43,
   "id": "fe7466b4",
   "metadata": {},
   "outputs": [
    {
     "data": {
      "image/png": "[encoded data removed]",
      "text/plain": [
       "<Figure size 576x432 with 1 Axes>"
      ]
     },
     "metadata": {
      "needs_background": "light"
     },
     "output_type": "display_data"
    }
   ],
   "source": [
    "X_hypertension_axis = np.arange(len(istatistik_data3[\"hypertension\"]))\n",
    "\n",
    "plt.figure(figsize=(8,6))\n",
    "plt.bar(X_hypertension_axis - 0.2, istatistik_data3[\"Felç Geçiren Oran\"], 0.4, color=\"red\", label = \"Felç Geçiren\")\n",
    "plt.bar(X_hypertension_axis + 0.2, istatistik_data3[\"Felç Geçirmeyen Oran\"], 0.4, color=\"lime\", label = \"Felç Geçirmeyen\")\n",
    "plt.xticks(X_hypertension_axis, istatistik_data3[\"hypertension\"])\n",
    "plt.xlabel(\"Hipertansiyon Öyküsü\")\n",
    "plt.ylabel(\"Felç Geçiren ve Geçirmeyen Kişi Sayısı\")\n",
    "plt.title(\"Hipertansiyon Öyküsüne Göre Felç Geçiren ve Geçirmeyen Kişilerin Oranları\")\n",
    "plt.gca().yaxis.set_major_formatter(mtick.StrMethodFormatter('%{x:,.2f}'))\n",
    "plt.legend()\n",
    "plt.show()"
   ]
  },
  {
   "cell_type": "markdown",
   "id": "81632bb7",
   "metadata": {},
   "source": [
    "## Kalp Hastalığının Felç'e Etkisi\n",
    "### İstatistik için verilerin analizi ve hazırlanması\n"
   ]
  },
  {
   "cell_type": "code",
   "execution_count": 44,
   "id": "91d58ff0",
   "metadata": {},
   "outputs": [
    {
     "data": {
      "text/html": [
       "<div>\n",
       "<style scoped>\n",
       "    .dataframe tbody tr th:only-of-type {\n",
       "        vertical-align: middle;\n",
       "    }\n",
       "\n",
       "    .dataframe tbody tr th {\n",
       "        vertical-align: top;\n",
       "    }\n",
       "\n",
       "    .dataframe thead th {\n",
       "        text-align: right;\n",
       "    }\n",
       "</style>\n",
       "<table border=\"1\" class=\"dataframe\">\n",
       "  <thead>\n",
       "    <tr style=\"text-align: right;\">\n",
       "      <th></th>\n",
       "      <th>heart_disease</th>\n",
       "      <th>Felç Geçiren</th>\n",
       "      <th>Felç Geçiren Oran</th>\n",
       "      <th>Felç Geçirmeyen</th>\n",
       "      <th>Felç Geçirmeyen Oran</th>\n",
       "    </tr>\n",
       "  </thead>\n",
       "  <tbody>\n",
       "    <tr>\n",
       "      <th>0</th>\n",
       "      <td>1</td>\n",
       "      <td>0</td>\n",
       "      <td>0</td>\n",
       "      <td>0</td>\n",
       "      <td>0</td>\n",
       "    </tr>\n",
       "    <tr>\n",
       "      <th>1</th>\n",
       "      <td>0</td>\n",
       "      <td>0</td>\n",
       "      <td>0</td>\n",
       "      <td>0</td>\n",
       "      <td>0</td>\n",
       "    </tr>\n",
       "  </tbody>\n",
       "</table>\n",
       "</div>"
      ],
      "text/plain": [
       "   heart_disease  Felç Geçiren  Felç Geçiren Oran  Felç Geçirmeyen  \\\n",
       "0              1             0                  0                0   \n",
       "1              0             0                  0                0   \n",
       "\n",
       "   Felç Geçirmeyen Oran  \n",
       "0                     0  \n",
       "1                     0  "
      ]
     },
     "execution_count": 44,
     "metadata": {},
     "output_type": "execute_result"
    }
   ],
   "source": [
    "istatistik_data4 = pd.DataFrame(columns=[\"Felç Geçiren\", \"Felç Geçiren Oran\", \"Felç Geçirmeyen\", \"Felç Geçirmeyen Oran\"])\n",
    "istatistik_data4.insert(0, \"heart_disease\", df[\"heart_disease\"].unique())\n",
    "istatistik_data4.fillna(0, inplace=True)\n",
    "istatistik_data4"
   ]
  },
  {
   "cell_type": "code",
   "execution_count": 45,
   "id": "0a1690b1",
   "metadata": {},
   "outputs": [
    {
     "data": {
      "text/html": [
       "<div>\n",
       "<style scoped>\n",
       "    .dataframe tbody tr th:only-of-type {\n",
       "        vertical-align: middle;\n",
       "    }\n",
       "\n",
       "    .dataframe tbody tr th {\n",
       "        vertical-align: top;\n",
       "    }\n",
       "\n",
       "    .dataframe thead th {\n",
       "        text-align: right;\n",
       "    }\n",
       "</style>\n",
       "<table border=\"1\" class=\"dataframe\">\n",
       "  <thead>\n",
       "    <tr style=\"text-align: right;\">\n",
       "      <th></th>\n",
       "      <th>heart_disease</th>\n",
       "      <th>Felç Geçiren</th>\n",
       "      <th>Felç Geçiren Oran</th>\n",
       "      <th>Felç Geçirmeyen</th>\n",
       "      <th>Felç Geçirmeyen Oran</th>\n",
       "    </tr>\n",
       "  </thead>\n",
       "  <tbody>\n",
       "    <tr>\n",
       "      <th>0</th>\n",
       "      <td>Kalp Hastalığı Öyküsü Var</td>\n",
       "      <td>47</td>\n",
       "      <td>18.875502</td>\n",
       "      <td>229</td>\n",
       "      <td>4.711934</td>\n",
       "    </tr>\n",
       "    <tr>\n",
       "      <th>1</th>\n",
       "      <td>Kalp Hastalığı Öyküsü Yok</td>\n",
       "      <td>202</td>\n",
       "      <td>81.124498</td>\n",
       "      <td>4631</td>\n",
       "      <td>95.288066</td>\n",
       "    </tr>\n",
       "  </tbody>\n",
       "</table>\n",
       "</div>"
      ],
      "text/plain": [
       "               heart_disease  Felç Geçiren  Felç Geçiren Oran  \\\n",
       "0  Kalp Hastalığı Öyküsü Var            47          18.875502   \n",
       "1  Kalp Hastalığı Öyküsü Yok           202          81.124498   \n",
       "\n",
       "   Felç Geçirmeyen  Felç Geçirmeyen Oran  \n",
       "0              229              4.711934  \n",
       "1             4631             95.288066  "
      ]
     },
     "execution_count": 45,
     "metadata": {},
     "output_type": "execute_result"
    }
   ],
   "source": [
    "# Kişi sayısını bulma\n",
    "for i in range(len(istatistik_data4)):\n",
    "    istatistik_data4.loc[i, \"Felç Geçiren\"] = len(df.query('heart_disease==' + str(istatistik_data4.loc[i, \"heart_disease\"]) + ' and stroke==1'))\n",
    "    istatistik_data4.loc[i, \"Felç Geçirmeyen\"] = len(df.query('heart_disease==' + str(istatistik_data4.loc[i, \"heart_disease\"]) + ' and stroke==0'))\n",
    "       \n",
    "# Kişi sayısını oranlama\n",
    "for i in range(len(istatistik_data4)):\n",
    "    istatistik_data4.loc[i, \"Felç Geçiren Oran\"] = istatistik_data4.loc[i, \"Felç Geçiren\"]/sum(istatistik_data4[\"Felç Geçiren\"])*100\n",
    "    istatistik_data4.loc[i, \"Felç Geçirmeyen Oran\"] = istatistik_data4.loc[i, \"Felç Geçirmeyen\"]/sum(istatistik_data4[\"Felç Geçirmeyen\"])*100\n",
    "    \n",
    "# Başlık Değişimi\n",
    "istatistik_data4[\"heart_disease\"] = istatistik_data4[\"heart_disease\"].replace({0: \"Kalp Hastalığı Öyküsü Yok\", 1: \"Kalp Hastalığı Öyküsü Var\"})\n",
    "istatistik_data4"
   ]
  },
  {
   "cell_type": "markdown",
   "id": "ec01b23f",
   "metadata": {},
   "source": [
    "### Bar Grafiği İle Gösterimi"
   ]
  },
  {
   "cell_type": "code",
   "execution_count": 46,
   "id": "fbfe1cc1",
   "metadata": {},
   "outputs": [
    {
     "data": {
      "image/png": "[encoded data removed]",
      "text/plain": [
       "<Figure size 576x432 with 1 Axes>"
      ]
     },
     "metadata": {
      "needs_background": "light"
     },
     "output_type": "display_data"
    }
   ],
   "source": [
    "X_heart_disease_axis = np.arange(len(istatistik_data4[\"heart_disease\"]))\n",
    "\n",
    "plt.figure(figsize=(8,6))\n",
    "plt.bar(X_heart_disease_axis - 0.2, istatistik_data4[\"Felç Geçiren Oran\"], 0.4, color=\"red\", label = \"Felç Geçiren\")\n",
    "plt.bar(X_heart_disease_axis + 0.2, istatistik_data4[\"Felç Geçirmeyen Oran\"], 0.4, color=\"lime\", label = \"Felç Geçirmeyen\")\n",
    "plt.xticks(X_heart_disease_axis, istatistik_data4[\"heart_disease\"])\n",
    "plt.xlabel(\"Kalp Hastalığı Öyküsü\")\n",
    "plt.ylabel(\"Felç Geçiren ve Geçirmeyen Kişi Sayısı\")\n",
    "plt.title(\"Kalp Hastalığı Öyküsüne Göre Felç Geçiren ve Geçirmeyen Kişilerin Oranları\")\n",
    "plt.gca().yaxis.set_major_formatter(mtick.StrMethodFormatter('%{x:,.2f}'))\n",
    "plt.legend()\n",
    "plt.show()"
   ]
  },
  {
   "cell_type": "markdown",
   "id": "80b7f02d",
   "metadata": {},
   "source": [
    "## Çalışma Hayatı Dağılımı\n",
    "### İstatistik için verilerin analizi"
   ]
  },
  {
   "cell_type": "code",
   "execution_count": 47,
   "id": "8532fa14",
   "metadata": {},
   "outputs": [
    {
     "name": "stdout",
     "output_type": "stream",
     "text": [
      "['Private' 'Self-employed' 'Govt_job' 'children' 'Never_worked']\n"
     ]
    },
    {
     "data": {
      "text/plain": [
       "Private          2924\n",
       "Self-employed     819\n",
       "Govt_job          657\n",
       "children          687\n",
       "Never_worked       22\n",
       "Name: work_type, dtype: int64"
      ]
     },
     "execution_count": 47,
     "metadata": {},
     "output_type": "execute_result"
    }
   ],
   "source": [
    "print(df[\"work_type\"].unique())\n",
    "df[\"work_type\"].value_counts(sort=False)"
   ]
  },
  {
   "cell_type": "code",
   "execution_count": 48,
   "id": "2548f3ba",
   "metadata": {},
   "outputs": [
    {
     "data": {
      "image/png": "[encoded data removed]",
      "text/plain": [
       "<Figure size 576x576 with 1 Axes>"
      ]
     },
     "metadata": {},
     "output_type": "display_data"
    }
   ],
   "source": [
    "plt.figure(figsize=(8,8))\n",
    "plt.pie(df[\"work_type\"].value_counts(sort=False),\n",
    "        labels=df[\"work_type\"].unique(),\n",
    "        startangle=90,\n",
    "        autopct=\"%.2f%%\",\n",
    "        shadow=True\n",
    "       )\n",
    "\n",
    "plt.title(\"Çalışma Hayatı Dağılımı\")\n",
    "plt.show()"
   ]
  },
  {
   "cell_type": "markdown",
   "id": "ebfa0047",
   "metadata": {},
   "source": [
    "## Çalışma Hayatının Felç'e Etkisi\n",
    "### İstatistik için verilerin analizi ve hazırlanması"
   ]
  },
  {
   "cell_type": "code",
   "execution_count": 49,
   "id": "18c3b335",
   "metadata": {},
   "outputs": [
    {
     "data": {
      "text/html": [
       "<div>\n",
       "<style scoped>\n",
       "    .dataframe tbody tr th:only-of-type {\n",
       "        vertical-align: middle;\n",
       "    }\n",
       "\n",
       "    .dataframe tbody tr th {\n",
       "        vertical-align: top;\n",
       "    }\n",
       "\n",
       "    .dataframe thead th {\n",
       "        text-align: right;\n",
       "    }\n",
       "</style>\n",
       "<table border=\"1\" class=\"dataframe\">\n",
       "  <thead>\n",
       "    <tr style=\"text-align: right;\">\n",
       "      <th></th>\n",
       "      <th>work_type</th>\n",
       "      <th>Felç Geçiren</th>\n",
       "      <th>Felç Geçiren Oran</th>\n",
       "      <th>Felç Geçirmeyen</th>\n",
       "      <th>Felç Geçirmeyen Oran</th>\n",
       "    </tr>\n",
       "  </thead>\n",
       "  <tbody>\n",
       "    <tr>\n",
       "      <th>0</th>\n",
       "      <td>Private</td>\n",
       "      <td>0</td>\n",
       "      <td>0</td>\n",
       "      <td>0</td>\n",
       "      <td>0</td>\n",
       "    </tr>\n",
       "    <tr>\n",
       "      <th>1</th>\n",
       "      <td>Self-employed</td>\n",
       "      <td>0</td>\n",
       "      <td>0</td>\n",
       "      <td>0</td>\n",
       "      <td>0</td>\n",
       "    </tr>\n",
       "    <tr>\n",
       "      <th>2</th>\n",
       "      <td>Govt_job</td>\n",
       "      <td>0</td>\n",
       "      <td>0</td>\n",
       "      <td>0</td>\n",
       "      <td>0</td>\n",
       "    </tr>\n",
       "    <tr>\n",
       "      <th>3</th>\n",
       "      <td>children</td>\n",
       "      <td>0</td>\n",
       "      <td>0</td>\n",
       "      <td>0</td>\n",
       "      <td>0</td>\n",
       "    </tr>\n",
       "    <tr>\n",
       "      <th>4</th>\n",
       "      <td>Never_worked</td>\n",
       "      <td>0</td>\n",
       "      <td>0</td>\n",
       "      <td>0</td>\n",
       "      <td>0</td>\n",
       "    </tr>\n",
       "  </tbody>\n",
       "</table>\n",
       "</div>"
      ],
      "text/plain": [
       "       work_type  Felç Geçiren  Felç Geçiren Oran  Felç Geçirmeyen  \\\n",
       "0        Private             0                  0                0   \n",
       "1  Self-employed             0                  0                0   \n",
       "2       Govt_job             0                  0                0   \n",
       "3       children             0                  0                0   \n",
       "4   Never_worked             0                  0                0   \n",
       "\n",
       "   Felç Geçirmeyen Oran  \n",
       "0                     0  \n",
       "1                     0  \n",
       "2                     0  \n",
       "3                     0  \n",
       "4                     0  "
      ]
     },
     "execution_count": 49,
     "metadata": {},
     "output_type": "execute_result"
    }
   ],
   "source": [
    "istatistik_data5 = pd.DataFrame(columns=[\"Felç Geçiren\", \"Felç Geçiren Oran\", \"Felç Geçirmeyen\", \"Felç Geçirmeyen Oran\"])\n",
    "istatistik_data5.insert(0, \"work_type\", df[\"work_type\"].unique())\n",
    "istatistik_data5.fillna(0, inplace=True)\n",
    "istatistik_data5"
   ]
  },
  {
   "cell_type": "code",
   "execution_count": 50,
   "id": "94fd8e24",
   "metadata": {},
   "outputs": [
    {
     "data": {
      "text/html": [
       "<div>\n",
       "<style scoped>\n",
       "    .dataframe tbody tr th:only-of-type {\n",
       "        vertical-align: middle;\n",
       "    }\n",
       "\n",
       "    .dataframe tbody tr th {\n",
       "        vertical-align: top;\n",
       "    }\n",
       "\n",
       "    .dataframe thead th {\n",
       "        text-align: right;\n",
       "    }\n",
       "</style>\n",
       "<table border=\"1\" class=\"dataframe\">\n",
       "  <thead>\n",
       "    <tr style=\"text-align: right;\">\n",
       "      <th></th>\n",
       "      <th>work_type</th>\n",
       "      <th>Felç Geçiren</th>\n",
       "      <th>Felç Geçiren Oran</th>\n",
       "      <th>Felç Geçirmeyen</th>\n",
       "      <th>Felç Geçirmeyen Oran</th>\n",
       "    </tr>\n",
       "  </thead>\n",
       "  <tbody>\n",
       "    <tr>\n",
       "      <th>0</th>\n",
       "      <td>Private</td>\n",
       "      <td>149</td>\n",
       "      <td>59.839357</td>\n",
       "      <td>2775</td>\n",
       "      <td>57.098765</td>\n",
       "    </tr>\n",
       "    <tr>\n",
       "      <th>1</th>\n",
       "      <td>Self-employed</td>\n",
       "      <td>65</td>\n",
       "      <td>26.104418</td>\n",
       "      <td>754</td>\n",
       "      <td>15.514403</td>\n",
       "    </tr>\n",
       "    <tr>\n",
       "      <th>2</th>\n",
       "      <td>Govt_job</td>\n",
       "      <td>33</td>\n",
       "      <td>13.253012</td>\n",
       "      <td>624</td>\n",
       "      <td>12.839506</td>\n",
       "    </tr>\n",
       "    <tr>\n",
       "      <th>3</th>\n",
       "      <td>children</td>\n",
       "      <td>2</td>\n",
       "      <td>0.803213</td>\n",
       "      <td>685</td>\n",
       "      <td>14.094650</td>\n",
       "    </tr>\n",
       "    <tr>\n",
       "      <th>4</th>\n",
       "      <td>Never_worked</td>\n",
       "      <td>0</td>\n",
       "      <td>0.000000</td>\n",
       "      <td>22</td>\n",
       "      <td>0.452675</td>\n",
       "    </tr>\n",
       "  </tbody>\n",
       "</table>\n",
       "</div>"
      ],
      "text/plain": [
       "       work_type  Felç Geçiren  Felç Geçiren Oran  Felç Geçirmeyen  \\\n",
       "0        Private           149          59.839357             2775   \n",
       "1  Self-employed            65          26.104418              754   \n",
       "2       Govt_job            33          13.253012              624   \n",
       "3       children             2           0.803213              685   \n",
       "4   Never_worked             0           0.000000               22   \n",
       "\n",
       "   Felç Geçirmeyen Oran  \n",
       "0             57.098765  \n",
       "1             15.514403  \n",
       "2             12.839506  \n",
       "3             14.094650  \n",
       "4              0.452675  "
      ]
     },
     "execution_count": 50,
     "metadata": {},
     "output_type": "execute_result"
    }
   ],
   "source": [
    "# Kişi sayısını bulma\n",
    "for i in range(len(istatistik_data5)):\n",
    "    istatistik_data5.loc[i, \"Felç Geçiren\"] = len(df.query('work_type==\"' + str(istatistik_data5.loc[i, \"work_type\"]) + '\" and stroke==1'))\n",
    "    istatistik_data5.loc[i, \"Felç Geçirmeyen\"] = len(df.query('work_type==\"' + str(istatistik_data5.loc[i, \"work_type\"]) + '\" and stroke==0'))\n",
    "       \n",
    "# Kişi sayısını oranlama\n",
    "for i in range(len(istatistik_data5)):\n",
    "    istatistik_data5.loc[i, \"Felç Geçiren Oran\"] = istatistik_data5.loc[i, \"Felç Geçiren\"]/sum(istatistik_data5[\"Felç Geçiren\"])*100\n",
    "    istatistik_data5.loc[i, \"Felç Geçirmeyen Oran\"] = istatistik_data5.loc[i, \"Felç Geçirmeyen\"]/sum(istatistik_data5[\"Felç Geçirmeyen\"])*100\n",
    "\n",
    "istatistik_data5"
   ]
  },
  {
   "cell_type": "markdown",
   "id": "c481b8a9",
   "metadata": {},
   "source": [
    "### Bar Grafiği İle Gösterim"
   ]
  },
  {
   "cell_type": "code",
   "execution_count": 51,
   "id": "146308d7",
   "metadata": {},
   "outputs": [
    {
     "data": {
      "image/png": "[encoded data removed]",
      "text/plain": [
       "<Figure size 576x432 with 1 Axes>"
      ]
     },
     "metadata": {
      "needs_background": "light"
     },
     "output_type": "display_data"
    }
   ],
   "source": [
    "X_work_type_axis = np.arange(len(istatistik_data5[\"work_type\"]))\n",
    "\n",
    "plt.figure(figsize=(8,6))\n",
    "plt.bar(X_work_type_axis - 0.2, istatistik_data5[\"Felç Geçiren\"], 0.4, color=\"red\", label = \"Felç Geçiren\")\n",
    "plt.bar(X_work_type_axis + 0.2, istatistik_data5[\"Felç Geçirmeyen\"], 0.4, color=\"lime\", label = \"Felç Geçirmeyen\")\n",
    "plt.xticks(X_work_type_axis, istatistik_data5[\"work_type\"])\n",
    "plt.xlabel(\"Çalışma Hayatı\")\n",
    "plt.ylabel(\"Felç Geçiren ve Geçirmeyen Kişi Sayısı Oranı\")\n",
    "plt.title(\"Çalışma Hayatının Felç'e Etkisi\")\n",
    "#plt.gca().yaxis.set_major_formatter(mtick.StrMethodFormatter('%{x:,.2f}'))\n",
    "plt.legend()\n",
    "plt.show()"
   ]
  },
  {
   "cell_type": "markdown",
   "id": "c62a0ac9",
   "metadata": {},
   "source": [
    "## Yaşanılan Bölge Dağılımı\n",
    "### İstatistik için verilerin analizi ve hazırlanması"
   ]
  },
  {
   "cell_type": "code",
   "execution_count": 52,
   "id": "107d2b1d",
   "metadata": {},
   "outputs": [
    {
     "name": "stdout",
     "output_type": "stream",
     "text": [
      "['Urban' 'Rural']\n"
     ]
    },
    {
     "data": {
      "text/plain": [
       "Urban    2596\n",
       "Rural    2513\n",
       "Name: Residence_type, dtype: int64"
      ]
     },
     "execution_count": 52,
     "metadata": {},
     "output_type": "execute_result"
    }
   ],
   "source": [
    "print(df[\"Residence_type\"].unique())\n",
    "df[\"Residence_type\"].value_counts(sort=False)"
   ]
  },
  {
   "cell_type": "code",
   "execution_count": 53,
   "id": "cef65db7",
   "metadata": {},
   "outputs": [
    {
     "data": {
      "image/png": "[encoded data removed]",
      "text/plain": [
       "<Figure size 576x576 with 1 Axes>"
      ]
     },
     "metadata": {},
     "output_type": "display_data"
    }
   ],
   "source": [
    "plt.figure(figsize=(8,8))\n",
    "plt.pie(df[\"Residence_type\"].value_counts(sort=False),\n",
    "        labels=[\"Şehir\", \"Kırsal\"],\n",
    "        startangle=90,\n",
    "        autopct=\"%.2f%%\",\n",
    "        shadow=True\n",
    "       )\n",
    "\n",
    "plt.title(\"Yaşanılan Bölge\")\n",
    "plt.show()"
   ]
  },
  {
   "cell_type": "markdown",
   "id": "3dd40536",
   "metadata": {},
   "source": [
    "## Yaşanılan Bölgeye Göre Felç\n",
    "### İstatistik için verilerin analizi ve hazırlanması"
   ]
  },
  {
   "cell_type": "code",
   "execution_count": 54,
   "id": "5faa4d21",
   "metadata": {},
   "outputs": [
    {
     "data": {
      "text/html": [
       "<div>\n",
       "<style scoped>\n",
       "    .dataframe tbody tr th:only-of-type {\n",
       "        vertical-align: middle;\n",
       "    }\n",
       "\n",
       "    .dataframe tbody tr th {\n",
       "        vertical-align: top;\n",
       "    }\n",
       "\n",
       "    .dataframe thead th {\n",
       "        text-align: right;\n",
       "    }\n",
       "</style>\n",
       "<table border=\"1\" class=\"dataframe\">\n",
       "  <thead>\n",
       "    <tr style=\"text-align: right;\">\n",
       "      <th></th>\n",
       "      <th>Residence_type</th>\n",
       "      <th>Felç Geçiren</th>\n",
       "      <th>Felç Geçiren Oran</th>\n",
       "      <th>Felç Geçirmeyen</th>\n",
       "      <th>Felç Geçirmeyen Oran</th>\n",
       "    </tr>\n",
       "  </thead>\n",
       "  <tbody>\n",
       "    <tr>\n",
       "      <th>0</th>\n",
       "      <td>Urban</td>\n",
       "      <td>0</td>\n",
       "      <td>0</td>\n",
       "      <td>0</td>\n",
       "      <td>0</td>\n",
       "    </tr>\n",
       "    <tr>\n",
       "      <th>1</th>\n",
       "      <td>Rural</td>\n",
       "      <td>0</td>\n",
       "      <td>0</td>\n",
       "      <td>0</td>\n",
       "      <td>0</td>\n",
       "    </tr>\n",
       "  </tbody>\n",
       "</table>\n",
       "</div>"
      ],
      "text/plain": [
       "  Residence_type  Felç Geçiren  Felç Geçiren Oran  Felç Geçirmeyen  \\\n",
       "0          Urban             0                  0                0   \n",
       "1          Rural             0                  0                0   \n",
       "\n",
       "   Felç Geçirmeyen Oran  \n",
       "0                     0  \n",
       "1                     0  "
      ]
     },
     "execution_count": 54,
     "metadata": {},
     "output_type": "execute_result"
    }
   ],
   "source": [
    "istatistik_data6 = pd.DataFrame(columns=[\"Felç Geçiren\", \"Felç Geçiren Oran\", \"Felç Geçirmeyen\", \"Felç Geçirmeyen Oran\"])\n",
    "istatistik_data6.insert(0, \"Residence_type\", df[\"Residence_type\"].unique())\n",
    "istatistik_data6.fillna(0, inplace=True)\n",
    "istatistik_data6"
   ]
  },
  {
   "cell_type": "code",
   "execution_count": 55,
   "id": "347f379e",
   "metadata": {},
   "outputs": [
    {
     "data": {
      "text/html": [
       "<div>\n",
       "<style scoped>\n",
       "    .dataframe tbody tr th:only-of-type {\n",
       "        vertical-align: middle;\n",
       "    }\n",
       "\n",
       "    .dataframe tbody tr th {\n",
       "        vertical-align: top;\n",
       "    }\n",
       "\n",
       "    .dataframe thead th {\n",
       "        text-align: right;\n",
       "    }\n",
       "</style>\n",
       "<table border=\"1\" class=\"dataframe\">\n",
       "  <thead>\n",
       "    <tr style=\"text-align: right;\">\n",
       "      <th></th>\n",
       "      <th>Residence_type</th>\n",
       "      <th>Felç Geçiren</th>\n",
       "      <th>Felç Geçiren Oran</th>\n",
       "      <th>Felç Geçirmeyen</th>\n",
       "      <th>Felç Geçirmeyen Oran</th>\n",
       "    </tr>\n",
       "  </thead>\n",
       "  <tbody>\n",
       "    <tr>\n",
       "      <th>0</th>\n",
       "      <td>Şehir</td>\n",
       "      <td>135</td>\n",
       "      <td>54.216867</td>\n",
       "      <td>2461</td>\n",
       "      <td>50.63786</td>\n",
       "    </tr>\n",
       "    <tr>\n",
       "      <th>1</th>\n",
       "      <td>Kırsal</td>\n",
       "      <td>114</td>\n",
       "      <td>45.783133</td>\n",
       "      <td>2399</td>\n",
       "      <td>49.36214</td>\n",
       "    </tr>\n",
       "  </tbody>\n",
       "</table>\n",
       "</div>"
      ],
      "text/plain": [
       "  Residence_type  Felç Geçiren  Felç Geçiren Oran  Felç Geçirmeyen  \\\n",
       "0          Şehir           135          54.216867             2461   \n",
       "1         Kırsal           114          45.783133             2399   \n",
       "\n",
       "   Felç Geçirmeyen Oran  \n",
       "0              50.63786  \n",
       "1              49.36214  "
      ]
     },
     "execution_count": 55,
     "metadata": {},
     "output_type": "execute_result"
    }
   ],
   "source": [
    "# Kişi sayısını bulma\n",
    "for i in range(len(istatistik_data6)):\n",
    "    istatistik_data6.loc[i, \"Felç Geçiren\"] = len(df.query('Residence_type==\"' + str(istatistik_data6.loc[i, \"Residence_type\"]) + '\" and stroke==1'))\n",
    "    istatistik_data6.loc[i, \"Felç Geçirmeyen\"] = len(df.query('Residence_type==\"' + str(istatistik_data6.loc[i, \"Residence_type\"]) + '\" and stroke==0'))\n",
    "       \n",
    "# Kişi sayısını oranlama\n",
    "for i in range(len(istatistik_data6)):\n",
    "    istatistik_data6.loc[i, \"Felç Geçiren Oran\"] = istatistik_data6.loc[i, \"Felç Geçiren\"]/sum(istatistik_data6[\"Felç Geçiren\"])*100\n",
    "    istatistik_data6.loc[i, \"Felç Geçirmeyen Oran\"] = istatistik_data6.loc[i, \"Felç Geçirmeyen\"]/sum(istatistik_data6[\"Felç Geçirmeyen\"])*100\n",
    "\n",
    "istatistik_data6[\"Residence_type\"] = istatistik_data6[\"Residence_type\"].replace({\"Urban\": \"Şehir\", \"Rural\": \"Kırsal\"})\n",
    "istatistik_data6"
   ]
  },
  {
   "cell_type": "markdown",
   "id": "fdc14409",
   "metadata": {},
   "source": [
    "### Bar grafiğinde gösterim"
   ]
  },
  {
   "cell_type": "code",
   "execution_count": 56,
   "id": "105b5eb3",
   "metadata": {},
   "outputs": [
    {
     "data": {
      "image/png": "[encoded data removed]",
      "text/plain": [
       "<Figure size 576x432 with 1 Axes>"
      ]
     },
     "metadata": {
      "needs_background": "light"
     },
     "output_type": "display_data"
    }
   ],
   "source": [
    "X_Residence_type_axis = np.arange(len(istatistik_data6[\"Residence_type\"]))\n",
    "\n",
    "plt.figure(figsize=(8,6))\n",
    "plt.bar(X_Residence_type_axis - 0.2, istatistik_data6[\"Felç Geçiren\"], 0.4, color=\"red\", label = \"Felç Geçiren\")\n",
    "plt.bar(X_Residence_type_axis + 0.2, istatistik_data6[\"Felç Geçirmeyen\"], 0.4, color=\"lime\", label = \"Felç Geçirmeyen\")\n",
    "plt.xticks(X_Residence_type_axis, istatistik_data6[\"Residence_type\"])\n",
    "plt.xlabel(\"Yaşanılan Bölge\")\n",
    "plt.ylabel(\"Felç Geçiren ve Geçirmeyen Kişi Sayısı\")\n",
    "plt.title(\"Yaşanılan Bölgenin Felç'e Etkisi\")\n",
    "plt.legend()\n",
    "plt.show()"
   ]
  },
  {
   "cell_type": "markdown",
   "id": "a791add0",
   "metadata": {},
   "source": [
    "## Evlilik Oranları\n",
    "### Verinin analizi ve hazırlanması"
   ]
  },
  {
   "cell_type": "code",
   "execution_count": 57,
   "id": "ccac74a4",
   "metadata": {},
   "outputs": [
    {
     "name": "stdout",
     "output_type": "stream",
     "text": [
      "['Yes' 'No']\n"
     ]
    },
    {
     "data": {
      "text/plain": [
       "Yes    3353\n",
       "No     1756\n",
       "Name: ever_married, dtype: int64"
      ]
     },
     "execution_count": 57,
     "metadata": {},
     "output_type": "execute_result"
    }
   ],
   "source": [
    "print(df[\"ever_married\"].unique())\n",
    "df[\"ever_married\"].value_counts(sort=False)"
   ]
  },
  {
   "cell_type": "code",
   "execution_count": 58,
   "id": "da38ad69",
   "metadata": {},
   "outputs": [
    {
     "data": {
      "image/png": "[encoded data removed]",
      "text/plain": [
       "<Figure size 576x576 with 1 Axes>"
      ]
     },
     "metadata": {},
     "output_type": "display_data"
    }
   ],
   "source": [
    "plt.figure(figsize=(8,8))\n",
    "plt.pie(df[\"ever_married\"].value_counts(sort=False),\n",
    "        labels=[\"Evli\", \"Bekar\"],\n",
    "        startangle=90,\n",
    "        autopct=\"%.2f%%\",\n",
    "        shadow=True\n",
    "       )\n",
    "\n",
    "plt.title(\"Evlilik Oranları\")\n",
    "plt.show()"
   ]
  },
  {
   "cell_type": "markdown",
   "id": "3329fcf8",
   "metadata": {},
   "source": [
    "## Evliliğe Göre Felç\n",
    "### İstatistik için veri analizi ve hazırlanması"
   ]
  },
  {
   "cell_type": "code",
   "execution_count": 59,
   "id": "0d5939b2",
   "metadata": {},
   "outputs": [
    {
     "data": {
      "text/html": [
       "<div>\n",
       "<style scoped>\n",
       "    .dataframe tbody tr th:only-of-type {\n",
       "        vertical-align: middle;\n",
       "    }\n",
       "\n",
       "    .dataframe tbody tr th {\n",
       "        vertical-align: top;\n",
       "    }\n",
       "\n",
       "    .dataframe thead th {\n",
       "        text-align: right;\n",
       "    }\n",
       "</style>\n",
       "<table border=\"1\" class=\"dataframe\">\n",
       "  <thead>\n",
       "    <tr style=\"text-align: right;\">\n",
       "      <th></th>\n",
       "      <th>ever_married</th>\n",
       "      <th>Felç Geçiren</th>\n",
       "      <th>Felç Geçiren Oran</th>\n",
       "      <th>Felç Geçirmeyen</th>\n",
       "      <th>Felç Geçirmeyen Oran</th>\n",
       "    </tr>\n",
       "  </thead>\n",
       "  <tbody>\n",
       "    <tr>\n",
       "      <th>0</th>\n",
       "      <td>Yes</td>\n",
       "      <td>0</td>\n",
       "      <td>0</td>\n",
       "      <td>0</td>\n",
       "      <td>0</td>\n",
       "    </tr>\n",
       "    <tr>\n",
       "      <th>1</th>\n",
       "      <td>No</td>\n",
       "      <td>0</td>\n",
       "      <td>0</td>\n",
       "      <td>0</td>\n",
       "      <td>0</td>\n",
       "    </tr>\n",
       "  </tbody>\n",
       "</table>\n",
       "</div>"
      ],
      "text/plain": [
       "  ever_married  Felç Geçiren  Felç Geçiren Oran  Felç Geçirmeyen  \\\n",
       "0          Yes             0                  0                0   \n",
       "1           No             0                  0                0   \n",
       "\n",
       "   Felç Geçirmeyen Oran  \n",
       "0                     0  \n",
       "1                     0  "
      ]
     },
     "execution_count": 59,
     "metadata": {},
     "output_type": "execute_result"
    }
   ],
   "source": [
    "istatistik_data7 = pd.DataFrame(columns=[\"Felç Geçiren\", \"Felç Geçiren Oran\", \"Felç Geçirmeyen\", \"Felç Geçirmeyen Oran\"])\n",
    "istatistik_data7.insert(0, \"ever_married\", df[\"ever_married\"].unique())\n",
    "istatistik_data7.fillna(0, inplace=True)\n",
    "istatistik_data7"
   ]
  },
  {
   "cell_type": "code",
   "execution_count": 60,
   "id": "11e0b09b",
   "metadata": {},
   "outputs": [
    {
     "data": {
      "text/html": [
       "<div>\n",
       "<style scoped>\n",
       "    .dataframe tbody tr th:only-of-type {\n",
       "        vertical-align: middle;\n",
       "    }\n",
       "\n",
       "    .dataframe tbody tr th {\n",
       "        vertical-align: top;\n",
       "    }\n",
       "\n",
       "    .dataframe thead th {\n",
       "        text-align: right;\n",
       "    }\n",
       "</style>\n",
       "<table border=\"1\" class=\"dataframe\">\n",
       "  <thead>\n",
       "    <tr style=\"text-align: right;\">\n",
       "      <th></th>\n",
       "      <th>ever_married</th>\n",
       "      <th>Felç Geçiren</th>\n",
       "      <th>Felç Geçiren Oran</th>\n",
       "      <th>Felç Geçirmeyen</th>\n",
       "      <th>Felç Geçirmeyen Oran</th>\n",
       "    </tr>\n",
       "  </thead>\n",
       "  <tbody>\n",
       "    <tr>\n",
       "      <th>0</th>\n",
       "      <td>Evli</td>\n",
       "      <td>220</td>\n",
       "      <td>88.353414</td>\n",
       "      <td>3133</td>\n",
       "      <td>64.465021</td>\n",
       "    </tr>\n",
       "    <tr>\n",
       "      <th>1</th>\n",
       "      <td>Bekar</td>\n",
       "      <td>29</td>\n",
       "      <td>11.646586</td>\n",
       "      <td>1727</td>\n",
       "      <td>35.534979</td>\n",
       "    </tr>\n",
       "  </tbody>\n",
       "</table>\n",
       "</div>"
      ],
      "text/plain": [
       "  ever_married  Felç Geçiren  Felç Geçiren Oran  Felç Geçirmeyen  \\\n",
       "0         Evli           220          88.353414             3133   \n",
       "1        Bekar            29          11.646586             1727   \n",
       "\n",
       "   Felç Geçirmeyen Oran  \n",
       "0             64.465021  \n",
       "1             35.534979  "
      ]
     },
     "execution_count": 60,
     "metadata": {},
     "output_type": "execute_result"
    }
   ],
   "source": [
    "# Kişi sayısını bulma\n",
    "for i in range(len(istatistik_data7)):\n",
    "    istatistik_data7.loc[i, \"Felç Geçiren\"] = len(df.query('ever_married==\"' + str(istatistik_data7.loc[i, \"ever_married\"]) + '\" and stroke==1'))\n",
    "    istatistik_data7.loc[i, \"Felç Geçirmeyen\"] = len(df.query('ever_married==\"' + str(istatistik_data7.loc[i, \"ever_married\"]) + '\" and stroke==0'))\n",
    "       \n",
    "# Kişi sayısını oranlama\n",
    "for i in range(len(istatistik_data7)):\n",
    "    istatistik_data7.loc[i, \"Felç Geçiren Oran\"] = istatistik_data7.loc[i, \"Felç Geçiren\"]/sum(istatistik_data7[\"Felç Geçiren\"])*100\n",
    "    istatistik_data7.loc[i, \"Felç Geçirmeyen Oran\"] = istatistik_data7.loc[i, \"Felç Geçirmeyen\"]/sum(istatistik_data7[\"Felç Geçirmeyen\"])*100\n",
    "\n",
    "istatistik_data7[\"ever_married\"] = istatistik_data7[\"ever_married\"].replace({\"Yes\": \"Evli\", \"No\": \"Bekar\"})\n",
    "istatistik_data7"
   ]
  },
  {
   "cell_type": "markdown",
   "id": "64fe49db",
   "metadata": {},
   "source": [
    "### Bar grafiğiyle gösterim"
   ]
  },
  {
   "cell_type": "code",
   "execution_count": 61,
   "id": "b3369cf4",
   "metadata": {},
   "outputs": [
    {
     "data": {
      "image/png": "[encoded data removed]",
      "text/plain": [
       "<Figure size 576x432 with 1 Axes>"
      ]
     },
     "metadata": {
      "needs_background": "light"
     },
     "output_type": "display_data"
    }
   ],
   "source": [
    "X_ever_married_axis = np.arange(len(istatistik_data7[\"ever_married\"]))\n",
    "\n",
    "plt.figure(figsize=(8,6))\n",
    "plt.bar(X_ever_married_axis - 0.2, istatistik_data7[\"Felç Geçiren\"], 0.4, color=\"red\", label = \"Felç Geçiren\")\n",
    "plt.bar(X_ever_married_axis + 0.2, istatistik_data7[\"Felç Geçirmeyen\"], 0.4, color=\"lime\", label = \"Felç Geçirmeyen\")\n",
    "plt.xticks(X_ever_married_axis, istatistik_data7[\"ever_married\"])\n",
    "plt.xlabel(\"Medeni Hali\")\n",
    "plt.ylabel(\"Felç Geçiren ve Geçirmeyen Kişi Sayısı\")\n",
    "plt.title(\"Evlilik Durumuna Göre Felç Geçiren ve Geçirmeyenler\")\n",
    "plt.legend()\n",
    "plt.show()"
   ]
  },
  {
   "cell_type": "markdown",
   "id": "6c85a15d",
   "metadata": {},
   "source": [
    "### Oranlayarak Bar grafiğinde gösterim"
   ]
  },
  {
   "cell_type": "code",
   "execution_count": 62,
   "id": "ed79480c",
   "metadata": {},
   "outputs": [
    {
     "data": {
      "image/png": "[encoded data removed]",
      "text/plain": [
       "<Figure size 576x432 with 1 Axes>"
      ]
     },
     "metadata": {
      "needs_background": "light"
     },
     "output_type": "display_data"
    }
   ],
   "source": [
    "X_ever_married_axis = np.arange(len(istatistik_data7[\"ever_married\"]))\n",
    "\n",
    "plt.figure(figsize=(8,6))\n",
    "plt.bar(X_ever_married_axis - 0.2, istatistik_data7[\"Felç Geçiren Oran\"], 0.4, color=\"red\", label = \"Felç Geçiren\")\n",
    "plt.bar(X_ever_married_axis + 0.2, istatistik_data7[\"Felç Geçirmeyen Oran\"], 0.4, color=\"lime\", label = \"Felç Geçirmeyen\")\n",
    "plt.xticks(X_ever_married_axis, istatistik_data7[\"ever_married\"])\n",
    "plt.xlabel(\"Medeni Hali\")\n",
    "plt.ylabel(\"Felç Geçiren ve Geçirmeyen Kişi Sayısı\")\n",
    "plt.title(\"Evlilik Durumuna Göre Felç Geçiren ve Geçirmeyenler\")\n",
    "plt.legend()\n",
    "plt.show()"
   ]
  },
  {
   "cell_type": "markdown",
   "id": "2040e2dd",
   "metadata": {},
   "source": [
    "## Vücut Kitle Endeksine Göre Felç\n",
    "### İstatistik için verilerin analizi ve hazırlanması"
   ]
  },
  {
   "cell_type": "code",
   "execution_count": 63,
   "id": "661a4067",
   "metadata": {},
   "outputs": [
    {
     "data": {
      "text/plain": [
       "529"
      ]
     },
     "execution_count": 63,
     "metadata": {},
     "output_type": "execute_result"
    }
   ],
   "source": [
    "len(df[\"bmi\"].unique())"
   ]
  },
  {
   "cell_type": "code",
   "execution_count": 64,
   "id": "8e7e70e2",
   "metadata": {},
   "outputs": [
    {
     "data": {
      "text/plain": [
       "97.6"
      ]
     },
     "execution_count": 64,
     "metadata": {},
     "output_type": "execute_result"
    }
   ],
   "source": [
    "max(df[\"bmi\"].unique())"
   ]
  },
  {
   "cell_type": "code",
   "execution_count": 65,
   "id": "d7beb35c",
   "metadata": {},
   "outputs": [
    {
     "data": {
      "text/plain": [
       "10.3"
      ]
     },
     "execution_count": 65,
     "metadata": {},
     "output_type": "execute_result"
    }
   ],
   "source": [
    "min(df[\"bmi\"].unique())"
   ]
  },
  {
   "cell_type": "code",
   "execution_count": 66,
   "id": "95c46bb2",
   "metadata": {},
   "outputs": [
    {
     "data": {
      "text/html": [
       "<div>\n",
       "<style scoped>\n",
       "    .dataframe tbody tr th:only-of-type {\n",
       "        vertical-align: middle;\n",
       "    }\n",
       "\n",
       "    .dataframe tbody tr th {\n",
       "        vertical-align: top;\n",
       "    }\n",
       "\n",
       "    .dataframe thead th {\n",
       "        text-align: right;\n",
       "    }\n",
       "</style>\n",
       "<table border=\"1\" class=\"dataframe\">\n",
       "  <thead>\n",
       "    <tr style=\"text-align: right;\">\n",
       "      <th></th>\n",
       "      <th>bmi_aralik</th>\n",
       "      <th>Kişi Sayısı</th>\n",
       "      <th>Felç</th>\n",
       "    </tr>\n",
       "  </thead>\n",
       "  <tbody>\n",
       "    <tr>\n",
       "      <th>0</th>\n",
       "      <td>10.0</td>\n",
       "      <td>0</td>\n",
       "      <td>0</td>\n",
       "    </tr>\n",
       "    <tr>\n",
       "      <th>1</th>\n",
       "      <td>20.0</td>\n",
       "      <td>0</td>\n",
       "      <td>0</td>\n",
       "    </tr>\n",
       "    <tr>\n",
       "      <th>2</th>\n",
       "      <td>30.0</td>\n",
       "      <td>0</td>\n",
       "      <td>0</td>\n",
       "    </tr>\n",
       "    <tr>\n",
       "      <th>3</th>\n",
       "      <td>40.0</td>\n",
       "      <td>0</td>\n",
       "      <td>0</td>\n",
       "    </tr>\n",
       "    <tr>\n",
       "      <th>4</th>\n",
       "      <td>50.0</td>\n",
       "      <td>0</td>\n",
       "      <td>0</td>\n",
       "    </tr>\n",
       "    <tr>\n",
       "      <th>5</th>\n",
       "      <td>60.0</td>\n",
       "      <td>0</td>\n",
       "      <td>0</td>\n",
       "    </tr>\n",
       "    <tr>\n",
       "      <th>6</th>\n",
       "      <td>70.0</td>\n",
       "      <td>0</td>\n",
       "      <td>0</td>\n",
       "    </tr>\n",
       "    <tr>\n",
       "      <th>7</th>\n",
       "      <td>80.0</td>\n",
       "      <td>0</td>\n",
       "      <td>0</td>\n",
       "    </tr>\n",
       "    <tr>\n",
       "      <th>8</th>\n",
       "      <td>90.0</td>\n",
       "      <td>0</td>\n",
       "      <td>0</td>\n",
       "    </tr>\n",
       "  </tbody>\n",
       "</table>\n",
       "</div>"
      ],
      "text/plain": [
       "   bmi_aralik  Kişi Sayısı  Felç\n",
       "0        10.0            0     0\n",
       "1        20.0            0     0\n",
       "2        30.0            0     0\n",
       "3        40.0            0     0\n",
       "4        50.0            0     0\n",
       "5        60.0            0     0\n",
       "6        70.0            0     0\n",
       "7        80.0            0     0\n",
       "8        90.0            0     0"
      ]
     },
     "execution_count": 66,
     "metadata": {},
     "output_type": "execute_result"
    }
   ],
   "source": [
    "istatistik_data8 = pd.DataFrame(columns=[\"Kişi Sayısı\", \"Felç\"])\n",
    "istatistik_data8.insert(0, \"bmi_aralik\", list(range(10, 100, 10)))\n",
    "istatistik_data8.fillna(0, inplace=True)\n",
    "istatistik_data8[\"bmi_aralik\"] = istatistik_data8[\"bmi_aralik\"].astype(np.float64)\n",
    "istatistik_data8"
   ]
  },
  {
   "cell_type": "code",
   "execution_count": 67,
   "id": "e0a99d44",
   "metadata": {},
   "outputs": [
    {
     "data": {
      "text/html": [
       "<div>\n",
       "<style scoped>\n",
       "    .dataframe tbody tr th:only-of-type {\n",
       "        vertical-align: middle;\n",
       "    }\n",
       "\n",
       "    .dataframe tbody tr th {\n",
       "        vertical-align: top;\n",
       "    }\n",
       "\n",
       "    .dataframe thead th {\n",
       "        text-align: right;\n",
       "    }\n",
       "</style>\n",
       "<table border=\"1\" class=\"dataframe\">\n",
       "  <thead>\n",
       "    <tr style=\"text-align: right;\">\n",
       "      <th></th>\n",
       "      <th>bmi_aralik</th>\n",
       "      <th>Kişi Sayısı</th>\n",
       "      <th>Felç</th>\n",
       "    </tr>\n",
       "  </thead>\n",
       "  <tbody>\n",
       "    <tr>\n",
       "      <th>0</th>\n",
       "      <td>10.0</td>\n",
       "      <td>533</td>\n",
       "      <td>4</td>\n",
       "    </tr>\n",
       "    <tr>\n",
       "      <th>1</th>\n",
       "      <td>20.0</td>\n",
       "      <td>2538</td>\n",
       "      <td>126</td>\n",
       "    </tr>\n",
       "    <tr>\n",
       "      <th>2</th>\n",
       "      <td>30.0</td>\n",
       "      <td>1624</td>\n",
       "      <td>100</td>\n",
       "    </tr>\n",
       "    <tr>\n",
       "      <th>3</th>\n",
       "      <td>40.0</td>\n",
       "      <td>335</td>\n",
       "      <td>18</td>\n",
       "    </tr>\n",
       "    <tr>\n",
       "      <th>4</th>\n",
       "      <td>50.0</td>\n",
       "      <td>66</td>\n",
       "      <td>1</td>\n",
       "    </tr>\n",
       "    <tr>\n",
       "      <th>5</th>\n",
       "      <td>60.0</td>\n",
       "      <td>9</td>\n",
       "      <td>0</td>\n",
       "    </tr>\n",
       "    <tr>\n",
       "      <th>6</th>\n",
       "      <td>70.0</td>\n",
       "      <td>2</td>\n",
       "      <td>0</td>\n",
       "    </tr>\n",
       "    <tr>\n",
       "      <th>7</th>\n",
       "      <td>80.0</td>\n",
       "      <td>0</td>\n",
       "      <td>0</td>\n",
       "    </tr>\n",
       "    <tr>\n",
       "      <th>8</th>\n",
       "      <td>90.0</td>\n",
       "      <td>2</td>\n",
       "      <td>0</td>\n",
       "    </tr>\n",
       "  </tbody>\n",
       "</table>\n",
       "</div>"
      ],
      "text/plain": [
       "   bmi_aralik  Kişi Sayısı  Felç\n",
       "0        10.0          533     4\n",
       "1        20.0         2538   126\n",
       "2        30.0         1624   100\n",
       "3        40.0          335    18\n",
       "4        50.0           66     1\n",
       "5        60.0            9     0\n",
       "6        70.0            2     0\n",
       "7        80.0            0     0\n",
       "8        90.0            2     0"
      ]
     },
     "execution_count": 67,
     "metadata": {},
     "output_type": "execute_result"
    }
   ],
   "source": [
    "for i in range(len(istatistik_data8)):\n",
    "    for d in range(len(df[\"stroke\"])):\n",
    "        if df.loc[d, \"bmi\"] >= istatistik_data8.loc[i, \"bmi_aralik\"] and df.loc[d, \"bmi\"] < (istatistik_data8.loc[i, \"bmi_aralik\"]+10):\n",
    "            istatistik_data8.loc[i, \"Kişi Sayısı\"] += 1\n",
    "        \n",
    "        if df.loc[d, \"bmi\"] >= istatistik_data8.loc[i, \"bmi_aralik\"] and df.loc[d, \"bmi\"] < (istatistik_data8.loc[i, \"bmi_aralik\"]+10) and df.loc[d, \"stroke\"] == 1:\n",
    "            istatistik_data8.loc[i, \"Felç\"] += 1\n",
    "\n",
    "istatistik_data8\n",
    "\n"
   ]
  },
  {
   "cell_type": "code",
   "execution_count": 68,
   "id": "cd26ca9f",
   "metadata": {},
   "outputs": [
    {
     "data": {
      "text/plain": [
       "5109"
      ]
     },
     "execution_count": 68,
     "metadata": {},
     "output_type": "execute_result"
    }
   ],
   "source": [
    "sum(istatistik_data8[\"Kişi Sayısı\"])"
   ]
  },
  {
   "cell_type": "code",
   "execution_count": 69,
   "id": "2680baea",
   "metadata": {},
   "outputs": [
    {
     "data": {
      "text/html": [
       "<div>\n",
       "<style scoped>\n",
       "    .dataframe tbody tr th:only-of-type {\n",
       "        vertical-align: middle;\n",
       "    }\n",
       "\n",
       "    .dataframe tbody tr th {\n",
       "        vertical-align: top;\n",
       "    }\n",
       "\n",
       "    .dataframe thead th {\n",
       "        text-align: right;\n",
       "    }\n",
       "</style>\n",
       "<table border=\"1\" class=\"dataframe\">\n",
       "  <thead>\n",
       "    <tr style=\"text-align: right;\">\n",
       "      <th></th>\n",
       "      <th>bmi_aralik</th>\n",
       "      <th>Kişi Sayısı</th>\n",
       "      <th>Felç</th>\n",
       "    </tr>\n",
       "  </thead>\n",
       "  <tbody>\n",
       "    <tr>\n",
       "      <th>0</th>\n",
       "      <td>10.0</td>\n",
       "      <td>0.210008</td>\n",
       "      <td>0.031746</td>\n",
       "    </tr>\n",
       "    <tr>\n",
       "      <th>1</th>\n",
       "      <td>20.0</td>\n",
       "      <td>1.000000</td>\n",
       "      <td>1.000000</td>\n",
       "    </tr>\n",
       "    <tr>\n",
       "      <th>2</th>\n",
       "      <td>30.0</td>\n",
       "      <td>0.639874</td>\n",
       "      <td>0.793651</td>\n",
       "    </tr>\n",
       "    <tr>\n",
       "      <th>3</th>\n",
       "      <td>40.0</td>\n",
       "      <td>0.131994</td>\n",
       "      <td>0.142857</td>\n",
       "    </tr>\n",
       "    <tr>\n",
       "      <th>4</th>\n",
       "      <td>50.0</td>\n",
       "      <td>0.026005</td>\n",
       "      <td>0.007937</td>\n",
       "    </tr>\n",
       "    <tr>\n",
       "      <th>5</th>\n",
       "      <td>60.0</td>\n",
       "      <td>0.003546</td>\n",
       "      <td>0.000000</td>\n",
       "    </tr>\n",
       "    <tr>\n",
       "      <th>6</th>\n",
       "      <td>70.0</td>\n",
       "      <td>0.000788</td>\n",
       "      <td>0.000000</td>\n",
       "    </tr>\n",
       "    <tr>\n",
       "      <th>7</th>\n",
       "      <td>80.0</td>\n",
       "      <td>0.000000</td>\n",
       "      <td>0.000000</td>\n",
       "    </tr>\n",
       "    <tr>\n",
       "      <th>8</th>\n",
       "      <td>90.0</td>\n",
       "      <td>0.000788</td>\n",
       "      <td>0.000000</td>\n",
       "    </tr>\n",
       "  </tbody>\n",
       "</table>\n",
       "</div>"
      ],
      "text/plain": [
       "   bmi_aralik  Kişi Sayısı      Felç\n",
       "0        10.0     0.210008  0.031746\n",
       "1        20.0     1.000000  1.000000\n",
       "2        30.0     0.639874  0.793651\n",
       "3        40.0     0.131994  0.142857\n",
       "4        50.0     0.026005  0.007937\n",
       "5        60.0     0.003546  0.000000\n",
       "6        70.0     0.000788  0.000000\n",
       "7        80.0     0.000000  0.000000\n",
       "8        90.0     0.000788  0.000000"
      ]
     },
     "execution_count": 69,
     "metadata": {},
     "output_type": "execute_result"
    }
   ],
   "source": [
    "# Karşılaştırma için verileri 1-0 arasına sıkıştırıyorum\n",
    "istatistik_data8[\"Kişi Sayısı\"] = istatistik_data8[\"Kişi Sayısı\"]/max(istatistik_data8[\"Kişi Sayısı\"])\n",
    "istatistik_data8[\"Felç\"] = istatistik_data8[\"Felç\"]/max(istatistik_data8[\"Felç\"])\n",
    "istatistik_data8"
   ]
  },
  {
   "cell_type": "code",
   "execution_count": 70,
   "id": "ca196548",
   "metadata": {},
   "outputs": [
    {
     "data": {
      "image/png": "[encoded data removed]",
      "text/plain": [
       "<Figure size 1224x432 with 1 Axes>"
      ]
     },
     "metadata": {
      "needs_background": "light"
     },
     "output_type": "display_data"
    }
   ],
   "source": [
    "plt.figure(figsize=(17,6))\n",
    "plt.title(\"Vücut Kitle Endeksinin Felçe Etkisi\")\n",
    "plt.plot(istatistik_data8[\"bmi_aralik\"], istatistik_data8[\"Kişi Sayısı\"], color=\"blue\", label=\"Vücut Kitle Endeksine Göre Kişi Sayısı\")\n",
    "plt.plot(istatistik_data8[\"bmi_aralik\"], istatistik_data8[\"Felç\"], color=\"red\", label=\"Felç Geçiren Kişi Sayısı\")\n",
    "plt.grid(True)\n",
    "plt.xlabel(\"Vücut Kitle Endeksi\")\n",
    "plt.legend()\n",
    "plt.show()"
   ]
  },
  {
   "cell_type": "markdown",
   "id": "7e77d779",
   "metadata": {},
   "source": [
    "## Kandaki Ortalama Glikoz Seviyesinin Felçe Etkisi\n",
    "### İstatistik için verilerin analizi ve hazırlanması"
   ]
  },
  {
   "cell_type": "code",
   "execution_count": 71,
   "id": "81343e0a",
   "metadata": {},
   "outputs": [
    {
     "data": {
      "text/plain": [
       "3978"
      ]
     },
     "execution_count": 71,
     "metadata": {},
     "output_type": "execute_result"
    }
   ],
   "source": [
    "len(df[\"avg_glucose_level\"].unique())"
   ]
  },
  {
   "cell_type": "code",
   "execution_count": 72,
   "id": "e60bbb27",
   "metadata": {},
   "outputs": [
    {
     "data": {
      "text/plain": [
       "271.74"
      ]
     },
     "execution_count": 72,
     "metadata": {},
     "output_type": "execute_result"
    }
   ],
   "source": [
    "max(df[\"avg_glucose_level\"])"
   ]
  },
  {
   "cell_type": "code",
   "execution_count": 73,
   "id": "f6e4089b",
   "metadata": {},
   "outputs": [
    {
     "data": {
      "text/plain": [
       "55.12"
      ]
     },
     "execution_count": 73,
     "metadata": {},
     "output_type": "execute_result"
    }
   ],
   "source": [
    "min(df[\"avg_glucose_level\"])"
   ]
  },
  {
   "cell_type": "code",
   "execution_count": 87,
   "id": "622d72eb",
   "metadata": {},
   "outputs": [
    {
     "data": {
      "text/html": [
       "<div>\n",
       "<style scoped>\n",
       "    .dataframe tbody tr th:only-of-type {\n",
       "        vertical-align: middle;\n",
       "    }\n",
       "\n",
       "    .dataframe tbody tr th {\n",
       "        vertical-align: top;\n",
       "    }\n",
       "\n",
       "    .dataframe thead th {\n",
       "        text-align: right;\n",
       "    }\n",
       "</style>\n",
       "<table border=\"1\" class=\"dataframe\">\n",
       "  <thead>\n",
       "    <tr style=\"text-align: right;\">\n",
       "      <th></th>\n",
       "      <th>glikoz_aralik</th>\n",
       "      <th>Kişi Sayısı</th>\n",
       "      <th>Felç</th>\n",
       "    </tr>\n",
       "  </thead>\n",
       "  <tbody>\n",
       "    <tr>\n",
       "      <th>0</th>\n",
       "      <td>50.0</td>\n",
       "      <td>0</td>\n",
       "      <td>0</td>\n",
       "    </tr>\n",
       "    <tr>\n",
       "      <th>1</th>\n",
       "      <td>60.0</td>\n",
       "      <td>0</td>\n",
       "      <td>0</td>\n",
       "    </tr>\n",
       "    <tr>\n",
       "      <th>2</th>\n",
       "      <td>70.0</td>\n",
       "      <td>0</td>\n",
       "      <td>0</td>\n",
       "    </tr>\n",
       "    <tr>\n",
       "      <th>3</th>\n",
       "      <td>80.0</td>\n",
       "      <td>0</td>\n",
       "      <td>0</td>\n",
       "    </tr>\n",
       "    <tr>\n",
       "      <th>4</th>\n",
       "      <td>90.0</td>\n",
       "      <td>0</td>\n",
       "      <td>0</td>\n",
       "    </tr>\n",
       "    <tr>\n",
       "      <th>5</th>\n",
       "      <td>100.0</td>\n",
       "      <td>0</td>\n",
       "      <td>0</td>\n",
       "    </tr>\n",
       "    <tr>\n",
       "      <th>6</th>\n",
       "      <td>110.0</td>\n",
       "      <td>0</td>\n",
       "      <td>0</td>\n",
       "    </tr>\n",
       "    <tr>\n",
       "      <th>7</th>\n",
       "      <td>120.0</td>\n",
       "      <td>0</td>\n",
       "      <td>0</td>\n",
       "    </tr>\n",
       "    <tr>\n",
       "      <th>8</th>\n",
       "      <td>130.0</td>\n",
       "      <td>0</td>\n",
       "      <td>0</td>\n",
       "    </tr>\n",
       "    <tr>\n",
       "      <th>9</th>\n",
       "      <td>140.0</td>\n",
       "      <td>0</td>\n",
       "      <td>0</td>\n",
       "    </tr>\n",
       "    <tr>\n",
       "      <th>10</th>\n",
       "      <td>150.0</td>\n",
       "      <td>0</td>\n",
       "      <td>0</td>\n",
       "    </tr>\n",
       "    <tr>\n",
       "      <th>11</th>\n",
       "      <td>160.0</td>\n",
       "      <td>0</td>\n",
       "      <td>0</td>\n",
       "    </tr>\n",
       "    <tr>\n",
       "      <th>12</th>\n",
       "      <td>170.0</td>\n",
       "      <td>0</td>\n",
       "      <td>0</td>\n",
       "    </tr>\n",
       "    <tr>\n",
       "      <th>13</th>\n",
       "      <td>180.0</td>\n",
       "      <td>0</td>\n",
       "      <td>0</td>\n",
       "    </tr>\n",
       "    <tr>\n",
       "      <th>14</th>\n",
       "      <td>190.0</td>\n",
       "      <td>0</td>\n",
       "      <td>0</td>\n",
       "    </tr>\n",
       "    <tr>\n",
       "      <th>15</th>\n",
       "      <td>200.0</td>\n",
       "      <td>0</td>\n",
       "      <td>0</td>\n",
       "    </tr>\n",
       "    <tr>\n",
       "      <th>16</th>\n",
       "      <td>210.0</td>\n",
       "      <td>0</td>\n",
       "      <td>0</td>\n",
       "    </tr>\n",
       "    <tr>\n",
       "      <th>17</th>\n",
       "      <td>220.0</td>\n",
       "      <td>0</td>\n",
       "      <td>0</td>\n",
       "    </tr>\n",
       "    <tr>\n",
       "      <th>18</th>\n",
       "      <td>230.0</td>\n",
       "      <td>0</td>\n",
       "      <td>0</td>\n",
       "    </tr>\n",
       "    <tr>\n",
       "      <th>19</th>\n",
       "      <td>240.0</td>\n",
       "      <td>0</td>\n",
       "      <td>0</td>\n",
       "    </tr>\n",
       "    <tr>\n",
       "      <th>20</th>\n",
       "      <td>250.0</td>\n",
       "      <td>0</td>\n",
       "      <td>0</td>\n",
       "    </tr>\n",
       "    <tr>\n",
       "      <th>21</th>\n",
       "      <td>260.0</td>\n",
       "      <td>0</td>\n",
       "      <td>0</td>\n",
       "    </tr>\n",
       "    <tr>\n",
       "      <th>22</th>\n",
       "      <td>270.0</td>\n",
       "      <td>0</td>\n",
       "      <td>0</td>\n",
       "    </tr>\n",
       "    <tr>\n",
       "      <th>23</th>\n",
       "      <td>280.0</td>\n",
       "      <td>0</td>\n",
       "      <td>0</td>\n",
       "    </tr>\n",
       "  </tbody>\n",
       "</table>\n",
       "</div>"
      ],
      "text/plain": [
       "    glikoz_aralik  Kişi Sayısı  Felç\n",
       "0            50.0            0     0\n",
       "1            60.0            0     0\n",
       "2            70.0            0     0\n",
       "3            80.0            0     0\n",
       "4            90.0            0     0\n",
       "5           100.0            0     0\n",
       "6           110.0            0     0\n",
       "7           120.0            0     0\n",
       "8           130.0            0     0\n",
       "9           140.0            0     0\n",
       "10          150.0            0     0\n",
       "11          160.0            0     0\n",
       "12          170.0            0     0\n",
       "13          180.0            0     0\n",
       "14          190.0            0     0\n",
       "15          200.0            0     0\n",
       "16          210.0            0     0\n",
       "17          220.0            0     0\n",
       "18          230.0            0     0\n",
       "19          240.0            0     0\n",
       "20          250.0            0     0\n",
       "21          260.0            0     0\n",
       "22          270.0            0     0\n",
       "23          280.0            0     0"
      ]
     },
     "execution_count": 87,
     "metadata": {},
     "output_type": "execute_result"
    }
   ],
   "source": [
    "istatistik_data9 = pd.DataFrame(columns=[\"Kişi Sayısı\", \"Felç\"])\n",
    "istatistik_data9.insert(0, \"glikoz_aralik\", list(range(50, 290, 10)))\n",
    "istatistik_data9.fillna(0, inplace=True)\n",
    "istatistik_data9[\"glikoz_aralik\"] = istatistik_data9[\"glikoz_aralik\"].astype(np.float64)\n",
    "istatistik_data9"
   ]
  },
  {
   "cell_type": "code",
   "execution_count": 88,
   "id": "0d6e15d5",
   "metadata": {},
   "outputs": [
    {
     "data": {
      "text/html": [
       "<div>\n",
       "<style scoped>\n",
       "    .dataframe tbody tr th:only-of-type {\n",
       "        vertical-align: middle;\n",
       "    }\n",
       "\n",
       "    .dataframe tbody tr th {\n",
       "        vertical-align: top;\n",
       "    }\n",
       "\n",
       "    .dataframe thead th {\n",
       "        text-align: right;\n",
       "    }\n",
       "</style>\n",
       "<table border=\"1\" class=\"dataframe\">\n",
       "  <thead>\n",
       "    <tr style=\"text-align: right;\">\n",
       "      <th></th>\n",
       "      <th>glikoz_aralik</th>\n",
       "      <th>Kişi Sayısı</th>\n",
       "      <th>Felç</th>\n",
       "    </tr>\n",
       "  </thead>\n",
       "  <tbody>\n",
       "    <tr>\n",
       "      <th>0</th>\n",
       "      <td>50.0</td>\n",
       "      <td>220</td>\n",
       "      <td>8</td>\n",
       "    </tr>\n",
       "    <tr>\n",
       "      <th>1</th>\n",
       "      <td>60.0</td>\n",
       "      <td>534</td>\n",
       "      <td>19</td>\n",
       "    </tr>\n",
       "    <tr>\n",
       "      <th>2</th>\n",
       "      <td>70.0</td>\n",
       "      <td>776</td>\n",
       "      <td>36</td>\n",
       "    </tr>\n",
       "    <tr>\n",
       "      <th>3</th>\n",
       "      <td>80.0</td>\n",
       "      <td>872</td>\n",
       "      <td>25</td>\n",
       "    </tr>\n",
       "    <tr>\n",
       "      <th>4</th>\n",
       "      <td>90.0</td>\n",
       "      <td>729</td>\n",
       "      <td>24</td>\n",
       "    </tr>\n",
       "    <tr>\n",
       "      <th>5</th>\n",
       "      <td>100.0</td>\n",
       "      <td>506</td>\n",
       "      <td>20</td>\n",
       "    </tr>\n",
       "    <tr>\n",
       "      <th>6</th>\n",
       "      <td>110.0</td>\n",
       "      <td>354</td>\n",
       "      <td>15</td>\n",
       "    </tr>\n",
       "    <tr>\n",
       "      <th>7</th>\n",
       "      <td>120.0</td>\n",
       "      <td>198</td>\n",
       "      <td>4</td>\n",
       "    </tr>\n",
       "    <tr>\n",
       "      <th>8</th>\n",
       "      <td>130.0</td>\n",
       "      <td>100</td>\n",
       "      <td>5</td>\n",
       "    </tr>\n",
       "    <tr>\n",
       "      <th>9</th>\n",
       "      <td>140.0</td>\n",
       "      <td>89</td>\n",
       "      <td>3</td>\n",
       "    </tr>\n",
       "    <tr>\n",
       "      <th>10</th>\n",
       "      <td>150.0</td>\n",
       "      <td>62</td>\n",
       "      <td>1</td>\n",
       "    </tr>\n",
       "    <tr>\n",
       "      <th>11</th>\n",
       "      <td>160.0</td>\n",
       "      <td>47</td>\n",
       "      <td>6</td>\n",
       "    </tr>\n",
       "    <tr>\n",
       "      <th>12</th>\n",
       "      <td>170.0</td>\n",
       "      <td>39</td>\n",
       "      <td>4</td>\n",
       "    </tr>\n",
       "    <tr>\n",
       "      <th>13</th>\n",
       "      <td>180.0</td>\n",
       "      <td>53</td>\n",
       "      <td>7</td>\n",
       "    </tr>\n",
       "    <tr>\n",
       "      <th>14</th>\n",
       "      <td>190.0</td>\n",
       "      <td>96</td>\n",
       "      <td>16</td>\n",
       "    </tr>\n",
       "    <tr>\n",
       "      <th>15</th>\n",
       "      <td>200.0</td>\n",
       "      <td>119</td>\n",
       "      <td>12</td>\n",
       "    </tr>\n",
       "    <tr>\n",
       "      <th>16</th>\n",
       "      <td>210.0</td>\n",
       "      <td>110</td>\n",
       "      <td>16</td>\n",
       "    </tr>\n",
       "    <tr>\n",
       "      <th>17</th>\n",
       "      <td>220.0</td>\n",
       "      <td>86</td>\n",
       "      <td>10</td>\n",
       "    </tr>\n",
       "    <tr>\n",
       "      <th>18</th>\n",
       "      <td>230.0</td>\n",
       "      <td>64</td>\n",
       "      <td>7</td>\n",
       "    </tr>\n",
       "    <tr>\n",
       "      <th>19</th>\n",
       "      <td>240.0</td>\n",
       "      <td>30</td>\n",
       "      <td>6</td>\n",
       "    </tr>\n",
       "    <tr>\n",
       "      <th>20</th>\n",
       "      <td>250.0</td>\n",
       "      <td>16</td>\n",
       "      <td>3</td>\n",
       "    </tr>\n",
       "    <tr>\n",
       "      <th>21</th>\n",
       "      <td>260.0</td>\n",
       "      <td>8</td>\n",
       "      <td>1</td>\n",
       "    </tr>\n",
       "    <tr>\n",
       "      <th>22</th>\n",
       "      <td>270.0</td>\n",
       "      <td>1</td>\n",
       "      <td>1</td>\n",
       "    </tr>\n",
       "    <tr>\n",
       "      <th>23</th>\n",
       "      <td>280.0</td>\n",
       "      <td>0</td>\n",
       "      <td>0</td>\n",
       "    </tr>\n",
       "  </tbody>\n",
       "</table>\n",
       "</div>"
      ],
      "text/plain": [
       "    glikoz_aralik  Kişi Sayısı  Felç\n",
       "0            50.0          220     8\n",
       "1            60.0          534    19\n",
       "2            70.0          776    36\n",
       "3            80.0          872    25\n",
       "4            90.0          729    24\n",
       "5           100.0          506    20\n",
       "6           110.0          354    15\n",
       "7           120.0          198     4\n",
       "8           130.0          100     5\n",
       "9           140.0           89     3\n",
       "10          150.0           62     1\n",
       "11          160.0           47     6\n",
       "12          170.0           39     4\n",
       "13          180.0           53     7\n",
       "14          190.0           96    16\n",
       "15          200.0          119    12\n",
       "16          210.0          110    16\n",
       "17          220.0           86    10\n",
       "18          230.0           64     7\n",
       "19          240.0           30     6\n",
       "20          250.0           16     3\n",
       "21          260.0            8     1\n",
       "22          270.0            1     1\n",
       "23          280.0            0     0"
      ]
     },
     "execution_count": 88,
     "metadata": {},
     "output_type": "execute_result"
    }
   ],
   "source": [
    "for i in range(len(istatistik_data9)):\n",
    "    for d in range(len(df[\"stroke\"])):\n",
    "        if df.loc[d, \"avg_glucose_level\"] >= istatistik_data9.loc[i, \"glikoz_aralik\"] and df.loc[d, \"avg_glucose_level\"] < (istatistik_data9.loc[i, \"glikoz_aralik\"]+10):\n",
    "            istatistik_data9.loc[i, \"Kişi Sayısı\"] += 1\n",
    "        \n",
    "        if df.loc[d, \"avg_glucose_level\"] >= istatistik_data9.loc[i, \"glikoz_aralik\"] and df.loc[d, \"avg_glucose_level\"] < (istatistik_data9.loc[i, \"glikoz_aralik\"]+10) and df.loc[d, \"stroke\"] == 1:\n",
    "            istatistik_data9.loc[i, \"Felç\"] += 1\n",
    "\n",
    "istatistik_data9"
   ]
  },
  {
   "cell_type": "code",
   "execution_count": 92,
   "id": "604bff17",
   "metadata": {},
   "outputs": [
    {
     "data": {
      "text/html": [
       "<div>\n",
       "<style scoped>\n",
       "    .dataframe tbody tr th:only-of-type {\n",
       "        vertical-align: middle;\n",
       "    }\n",
       "\n",
       "    .dataframe tbody tr th {\n",
       "        vertical-align: top;\n",
       "    }\n",
       "\n",
       "    .dataframe thead th {\n",
       "        text-align: right;\n",
       "    }\n",
       "</style>\n",
       "<table border=\"1\" class=\"dataframe\">\n",
       "  <thead>\n",
       "    <tr style=\"text-align: right;\">\n",
       "      <th></th>\n",
       "      <th>glikoz_aralik</th>\n",
       "      <th>Kişi Sayısı</th>\n",
       "      <th>Felç</th>\n",
       "    </tr>\n",
       "  </thead>\n",
       "  <tbody>\n",
       "    <tr>\n",
       "      <th>0</th>\n",
       "      <td>50.0</td>\n",
       "      <td>0.252294</td>\n",
       "      <td>0.222222</td>\n",
       "    </tr>\n",
       "    <tr>\n",
       "      <th>1</th>\n",
       "      <td>60.0</td>\n",
       "      <td>0.612385</td>\n",
       "      <td>0.527778</td>\n",
       "    </tr>\n",
       "    <tr>\n",
       "      <th>2</th>\n",
       "      <td>70.0</td>\n",
       "      <td>0.889908</td>\n",
       "      <td>1.000000</td>\n",
       "    </tr>\n",
       "    <tr>\n",
       "      <th>3</th>\n",
       "      <td>80.0</td>\n",
       "      <td>1.000000</td>\n",
       "      <td>0.694444</td>\n",
       "    </tr>\n",
       "    <tr>\n",
       "      <th>4</th>\n",
       "      <td>90.0</td>\n",
       "      <td>0.836009</td>\n",
       "      <td>0.666667</td>\n",
       "    </tr>\n",
       "    <tr>\n",
       "      <th>5</th>\n",
       "      <td>100.0</td>\n",
       "      <td>0.580275</td>\n",
       "      <td>0.555556</td>\n",
       "    </tr>\n",
       "    <tr>\n",
       "      <th>6</th>\n",
       "      <td>110.0</td>\n",
       "      <td>0.405963</td>\n",
       "      <td>0.416667</td>\n",
       "    </tr>\n",
       "    <tr>\n",
       "      <th>7</th>\n",
       "      <td>120.0</td>\n",
       "      <td>0.227064</td>\n",
       "      <td>0.111111</td>\n",
       "    </tr>\n",
       "    <tr>\n",
       "      <th>8</th>\n",
       "      <td>130.0</td>\n",
       "      <td>0.114679</td>\n",
       "      <td>0.138889</td>\n",
       "    </tr>\n",
       "    <tr>\n",
       "      <th>9</th>\n",
       "      <td>140.0</td>\n",
       "      <td>0.102064</td>\n",
       "      <td>0.083333</td>\n",
       "    </tr>\n",
       "    <tr>\n",
       "      <th>10</th>\n",
       "      <td>150.0</td>\n",
       "      <td>0.071101</td>\n",
       "      <td>0.027778</td>\n",
       "    </tr>\n",
       "    <tr>\n",
       "      <th>11</th>\n",
       "      <td>160.0</td>\n",
       "      <td>0.053899</td>\n",
       "      <td>0.166667</td>\n",
       "    </tr>\n",
       "    <tr>\n",
       "      <th>12</th>\n",
       "      <td>170.0</td>\n",
       "      <td>0.044725</td>\n",
       "      <td>0.111111</td>\n",
       "    </tr>\n",
       "    <tr>\n",
       "      <th>13</th>\n",
       "      <td>180.0</td>\n",
       "      <td>0.060780</td>\n",
       "      <td>0.194444</td>\n",
       "    </tr>\n",
       "    <tr>\n",
       "      <th>14</th>\n",
       "      <td>190.0</td>\n",
       "      <td>0.110092</td>\n",
       "      <td>0.444444</td>\n",
       "    </tr>\n",
       "    <tr>\n",
       "      <th>15</th>\n",
       "      <td>200.0</td>\n",
       "      <td>0.136468</td>\n",
       "      <td>0.333333</td>\n",
       "    </tr>\n",
       "    <tr>\n",
       "      <th>16</th>\n",
       "      <td>210.0</td>\n",
       "      <td>0.126147</td>\n",
       "      <td>0.444444</td>\n",
       "    </tr>\n",
       "    <tr>\n",
       "      <th>17</th>\n",
       "      <td>220.0</td>\n",
       "      <td>0.098624</td>\n",
       "      <td>0.277778</td>\n",
       "    </tr>\n",
       "    <tr>\n",
       "      <th>18</th>\n",
       "      <td>230.0</td>\n",
       "      <td>0.073394</td>\n",
       "      <td>0.194444</td>\n",
       "    </tr>\n",
       "    <tr>\n",
       "      <th>19</th>\n",
       "      <td>240.0</td>\n",
       "      <td>0.034404</td>\n",
       "      <td>0.166667</td>\n",
       "    </tr>\n",
       "    <tr>\n",
       "      <th>20</th>\n",
       "      <td>250.0</td>\n",
       "      <td>0.018349</td>\n",
       "      <td>0.083333</td>\n",
       "    </tr>\n",
       "    <tr>\n",
       "      <th>21</th>\n",
       "      <td>260.0</td>\n",
       "      <td>0.009174</td>\n",
       "      <td>0.027778</td>\n",
       "    </tr>\n",
       "    <tr>\n",
       "      <th>22</th>\n",
       "      <td>270.0</td>\n",
       "      <td>0.001147</td>\n",
       "      <td>0.027778</td>\n",
       "    </tr>\n",
       "    <tr>\n",
       "      <th>23</th>\n",
       "      <td>280.0</td>\n",
       "      <td>0.000000</td>\n",
       "      <td>0.000000</td>\n",
       "    </tr>\n",
       "  </tbody>\n",
       "</table>\n",
       "</div>"
      ],
      "text/plain": [
       "    glikoz_aralik  Kişi Sayısı      Felç\n",
       "0            50.0     0.252294  0.222222\n",
       "1            60.0     0.612385  0.527778\n",
       "2            70.0     0.889908  1.000000\n",
       "3            80.0     1.000000  0.694444\n",
       "4            90.0     0.836009  0.666667\n",
       "5           100.0     0.580275  0.555556\n",
       "6           110.0     0.405963  0.416667\n",
       "7           120.0     0.227064  0.111111\n",
       "8           130.0     0.114679  0.138889\n",
       "9           140.0     0.102064  0.083333\n",
       "10          150.0     0.071101  0.027778\n",
       "11          160.0     0.053899  0.166667\n",
       "12          170.0     0.044725  0.111111\n",
       "13          180.0     0.060780  0.194444\n",
       "14          190.0     0.110092  0.444444\n",
       "15          200.0     0.136468  0.333333\n",
       "16          210.0     0.126147  0.444444\n",
       "17          220.0     0.098624  0.277778\n",
       "18          230.0     0.073394  0.194444\n",
       "19          240.0     0.034404  0.166667\n",
       "20          250.0     0.018349  0.083333\n",
       "21          260.0     0.009174  0.027778\n",
       "22          270.0     0.001147  0.027778\n",
       "23          280.0     0.000000  0.000000"
      ]
     },
     "execution_count": 92,
     "metadata": {},
     "output_type": "execute_result"
    }
   ],
   "source": [
    "# Karşılaştırma için verileri 1-0 arasına sıkıştırıyorum\n",
    "istatistik_data9[\"Kişi Sayısı\"] = istatistik_data9[\"Kişi Sayısı\"]/max(istatistik_data9[\"Kişi Sayısı\"])\n",
    "istatistik_data9[\"Felç\"] = istatistik_data9[\"Felç\"]/max(istatistik_data9[\"Felç\"])\n",
    "istatistik_data9"
   ]
  },
  {
   "cell_type": "code",
   "execution_count": 93,
   "id": "5f44c8ee",
   "metadata": {},
   "outputs": [
    {
     "data": {
      "image/png": "[encoded data removed]",
      "text/plain": [
       "<Figure size 1224x432 with 1 Axes>"
      ]
     },
     "metadata": {
      "needs_background": "light"
     },
     "output_type": "display_data"
    }
   ],
   "source": [
    "plt.figure(figsize=(17,6))\n",
    "plt.title(\"Kandaki Ortalama Glikoz Seviyesinin Felçe Etkisi\")\n",
    "plt.plot(istatistik_data9[\"glikoz_aralik\"], istatistik_data9[\"Kişi Sayısı\"], color=\"blue\", label=\"Vücut Kitle Endeksine Göre Kişi Sayısı\")\n",
    "plt.plot(istatistik_data9[\"glikoz_aralik\"], istatistik_data9[\"Felç\"], color=\"red\", label=\"Felç Geçiren Kişi Sayısı\")\n",
    "plt.grid(True)\n",
    "plt.xlabel(\"Kandaki Ortalama Glikoz Seviyesi\")\n",
    "plt.legend()\n",
    "plt.show()"
   ]
  },
  {
   "cell_type": "code",
   "execution_count": null,
   "id": "7a55ab1a",
   "metadata": {},
   "outputs": [],
   "source": [
    "## Kandaki Glikoz ve Vücut Kitle Endeksinin Felçe Orani"
   ]
  }
 ],
 "metadata": {
  "kernelspec": {
   "display_name": "Python 3 (ipykernel)",
   "language": "python",
   "name": "python3"
  },
  "language_info": {
   "codemirror_mode": {
    "name": "ipython",
    "version": 3
   },
   "file_extension": ".py",
   "mimetype": "text/x-python",
   "name": "python",
   "nbconvert_exporter": "python",
   "pygments_lexer": "ipython3",
   "version": "3.8.9"
  }
 },
 "nbformat": 4,
 "nbformat_minor": 5
}
